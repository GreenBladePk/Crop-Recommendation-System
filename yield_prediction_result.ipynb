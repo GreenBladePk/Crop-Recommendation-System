{
 "cells": [
  {
   "cell_type": "code",
   "execution_count": 1,
   "id": "a3202df5",
   "metadata": {},
   "outputs": [
    {
     "name": "stdout",
     "output_type": "stream",
     "text": [
      "39024\n"
     ]
    },
    {
     "data": {
      "text/html": [
       "<div>\n",
       "<style scoped>\n",
       "    .dataframe tbody tr th:only-of-type {\n",
       "        vertical-align: middle;\n",
       "    }\n",
       "\n",
       "    .dataframe tbody tr th {\n",
       "        vertical-align: top;\n",
       "    }\n",
       "\n",
       "    .dataframe thead th {\n",
       "        text-align: right;\n",
       "    }\n",
       "</style>\n",
       "<table border=\"1\" class=\"dataframe\">\n",
       "  <thead>\n",
       "    <tr style=\"text-align: right;\">\n",
       "      <th></th>\n",
       "      <th>Unnamed: 0</th>\n",
       "      <th>State</th>\n",
       "      <th>District</th>\n",
       "      <th>Crop</th>\n",
       "      <th>Crop_Year</th>\n",
       "      <th>Season</th>\n",
       "      <th>Area</th>\n",
       "      <th>Production</th>\n",
       "      <th>Yield</th>\n",
       "    </tr>\n",
       "  </thead>\n",
       "  <tbody>\n",
       "    <tr>\n",
       "      <th>0</th>\n",
       "      <td>0</td>\n",
       "      <td>Andaman and Nicobar Island</td>\n",
       "      <td>NICOBARS</td>\n",
       "      <td>rice</td>\n",
       "      <td>2015</td>\n",
       "      <td>Autumn</td>\n",
       "      <td>5.00</td>\n",
       "      <td>11.0</td>\n",
       "      <td>2.24</td>\n",
       "    </tr>\n",
       "    <tr>\n",
       "      <th>1</th>\n",
       "      <td>1</td>\n",
       "      <td>Andaman and Nicobar Island</td>\n",
       "      <td>NICOBARS</td>\n",
       "      <td>rice</td>\n",
       "      <td>2016</td>\n",
       "      <td>Autumn</td>\n",
       "      <td>6.67</td>\n",
       "      <td>10.0</td>\n",
       "      <td>1.43</td>\n",
       "    </tr>\n",
       "    <tr>\n",
       "      <th>2</th>\n",
       "      <td>2</td>\n",
       "      <td>Andaman and Nicobar Island</td>\n",
       "      <td>NICOBARS</td>\n",
       "      <td>rice</td>\n",
       "      <td>2017</td>\n",
       "      <td>Autumn</td>\n",
       "      <td>1.00</td>\n",
       "      <td>1.0</td>\n",
       "      <td>0.53</td>\n",
       "    </tr>\n",
       "    <tr>\n",
       "      <th>3</th>\n",
       "      <td>3</td>\n",
       "      <td>Andaman and Nicobar Island</td>\n",
       "      <td>NICOBARS</td>\n",
       "      <td>rice</td>\n",
       "      <td>2018</td>\n",
       "      <td>Autumn</td>\n",
       "      <td>4.10</td>\n",
       "      <td>6.0</td>\n",
       "      <td>1.47</td>\n",
       "    </tr>\n",
       "    <tr>\n",
       "      <th>4</th>\n",
       "      <td>4</td>\n",
       "      <td>Andaman and Nicobar Island</td>\n",
       "      <td>NICOBARS</td>\n",
       "      <td>rice</td>\n",
       "      <td>2019</td>\n",
       "      <td>Autumn</td>\n",
       "      <td>3.10</td>\n",
       "      <td>4.0</td>\n",
       "      <td>1.39</td>\n",
       "    </tr>\n",
       "  </tbody>\n",
       "</table>\n",
       "</div>"
      ],
      "text/plain": [
       "   Unnamed: 0                       State District   Crop  Crop_Year  \\\n",
       "0           0  Andaman and Nicobar Island  NICOBARS  rice       2015   \n",
       "1           1  Andaman and Nicobar Island  NICOBARS  rice       2016   \n",
       "2           2  Andaman and Nicobar Island  NICOBARS  rice       2017   \n",
       "3           3  Andaman and Nicobar Island  NICOBARS  rice       2018   \n",
       "4           4  Andaman and Nicobar Island  NICOBARS  rice       2019   \n",
       "\n",
       "        Season  Area   Production  Yield  \n",
       "0  Autumn        5.00        11.0   2.24  \n",
       "1  Autumn        6.67        10.0   1.43  \n",
       "2  Autumn        1.00         1.0   0.53  \n",
       "3  Autumn        4.10         6.0   1.47  \n",
       "4  Autumn        3.10         4.0   1.39  "
      ]
     },
     "execution_count": 1,
     "metadata": {},
     "output_type": "execute_result"
    }
   ],
   "source": [
    "import pandas as pd\n",
    "import numpy as np\n",
    "yield_data=pd.read_csv('final_yield_pred.csv')\n",
    "print(len(yield_data))\n",
    "yield_data.head()"
   ]
  },
  {
   "cell_type": "code",
   "execution_count": 2,
   "id": "ec63a8bf",
   "metadata": {},
   "outputs": [
    {
     "data": {
      "text/plain": [
       "Index(['Unnamed: 0', 'State', 'District ', 'Crop', 'Crop_Year', 'Season',\n",
       "       'Area ', 'Production', 'Yield'],\n",
       "      dtype='object')"
      ]
     },
     "execution_count": 2,
     "metadata": {},
     "output_type": "execute_result"
    }
   ],
   "source": [
    "yield_data.columns"
   ]
  },
  {
   "cell_type": "code",
   "execution_count": 3,
   "id": "5609495b",
   "metadata": {},
   "outputs": [],
   "source": [
    "yield_data.drop('Unnamed: 0',axis=1,inplace=True)"
   ]
  },
  {
   "cell_type": "code",
   "execution_count": 4,
   "id": "54b1244d",
   "metadata": {},
   "outputs": [],
   "source": [
    "x=yield_data.drop(['Area ', 'Production', 'Yield'],axis=1)\n",
    "y=yield_data['Yield']"
   ]
  },
  {
   "cell_type": "code",
   "execution_count": null,
   "id": "a1a11830",
   "metadata": {},
   "outputs": [],
   "source": []
  },
  {
   "cell_type": "code",
   "execution_count": 32,
   "id": "d9fc1226",
   "metadata": {},
   "outputs": [
    {
     "name": "stdout",
     "output_type": "stream",
     "text": [
      "['Andaman and Nicobar Island' 'Andhra Pradesh' 'Arunachal Pradesh' 'Assam'\n",
      " 'Bihar' 'CHANDIGARH' 'Chhattisgarh' 'Dadra and Nagar Haveli'\n",
      " 'Daman and Diu' 'Delhi' 'Goa' 'Gujarat' 'Haryana' 'Himachal Pradesh'\n",
      " 'Jammu and Kashmir' 'Jharkhand' 'Karnataka' 'Kerala' 'Madhya Pradesh'\n",
      " 'Maharashtra' 'Manipur' 'Meghalaya' 'Mizoram' 'Nagaland' 'Odisha'\n",
      " 'Puducherry' 'Punjab' 'Rajasthan' 'Sikkim' 'Tamil Nadu' 'Telangana'\n",
      " 'THE DADRA AND NAGAR HAVELI' 'Tripura' 'Uttar Pradesh' 'Uttarakhand'\n",
      " 'West Bengal'] 36\n"
     ]
    }
   ],
   "source": [
    "from sklearn.preprocessing import OneHotEncoder\n",
    "from sklearn.compose import ColumnTransformer\n",
    "encodecate=['State', 'District ', 'Crop','Season']\n",
    "onehot=OneHotEncoder()\n",
    "transformer=ColumnTransformer([('onehot',onehot,encodecate)],remainder='passthrough')\n",
    "x_dummy=transformer.fit_transform(x)\n",
    "x_dummy=x_dummy.toarray()\n",
    "x_dummy=pd.DataFrame(x_dummy)"
   ]
  },
  {
   "cell_type": "code",
   "execution_count": 16,
   "id": "b2535512",
   "metadata": {},
   "outputs": [
    {
     "data": {
      "text/html": [
       "<div>\n",
       "<style scoped>\n",
       "    .dataframe tbody tr th:only-of-type {\n",
       "        vertical-align: middle;\n",
       "    }\n",
       "\n",
       "    .dataframe tbody tr th {\n",
       "        vertical-align: top;\n",
       "    }\n",
       "\n",
       "    .dataframe thead th {\n",
       "        text-align: right;\n",
       "    }\n",
       "</style>\n",
       "<table border=\"1\" class=\"dataframe\">\n",
       "  <thead>\n",
       "    <tr style=\"text-align: right;\">\n",
       "      <th></th>\n",
       "      <th>0</th>\n",
       "      <th>1</th>\n",
       "      <th>2</th>\n",
       "      <th>3</th>\n",
       "      <th>4</th>\n",
       "      <th>5</th>\n",
       "      <th>6</th>\n",
       "      <th>7</th>\n",
       "      <th>8</th>\n",
       "      <th>9</th>\n",
       "      <th>...</th>\n",
       "      <th>748</th>\n",
       "      <th>749</th>\n",
       "      <th>750</th>\n",
       "      <th>751</th>\n",
       "      <th>752</th>\n",
       "      <th>753</th>\n",
       "      <th>754</th>\n",
       "      <th>755</th>\n",
       "      <th>756</th>\n",
       "      <th>757</th>\n",
       "    </tr>\n",
       "  </thead>\n",
       "  <tbody>\n",
       "    <tr>\n",
       "      <th>0</th>\n",
       "      <td>1.0</td>\n",
       "      <td>0.0</td>\n",
       "      <td>0.0</td>\n",
       "      <td>0.0</td>\n",
       "      <td>0.0</td>\n",
       "      <td>0.0</td>\n",
       "      <td>0.0</td>\n",
       "      <td>0.0</td>\n",
       "      <td>0.0</td>\n",
       "      <td>0.0</td>\n",
       "      <td>...</td>\n",
       "      <td>0.0</td>\n",
       "      <td>0.0</td>\n",
       "      <td>1.0</td>\n",
       "      <td>1.0</td>\n",
       "      <td>0.0</td>\n",
       "      <td>0.0</td>\n",
       "      <td>0.0</td>\n",
       "      <td>0.0</td>\n",
       "      <td>0.0</td>\n",
       "      <td>2015.0</td>\n",
       "    </tr>\n",
       "    <tr>\n",
       "      <th>1</th>\n",
       "      <td>1.0</td>\n",
       "      <td>0.0</td>\n",
       "      <td>0.0</td>\n",
       "      <td>0.0</td>\n",
       "      <td>0.0</td>\n",
       "      <td>0.0</td>\n",
       "      <td>0.0</td>\n",
       "      <td>0.0</td>\n",
       "      <td>0.0</td>\n",
       "      <td>0.0</td>\n",
       "      <td>...</td>\n",
       "      <td>0.0</td>\n",
       "      <td>0.0</td>\n",
       "      <td>1.0</td>\n",
       "      <td>1.0</td>\n",
       "      <td>0.0</td>\n",
       "      <td>0.0</td>\n",
       "      <td>0.0</td>\n",
       "      <td>0.0</td>\n",
       "      <td>0.0</td>\n",
       "      <td>2016.0</td>\n",
       "    </tr>\n",
       "    <tr>\n",
       "      <th>2</th>\n",
       "      <td>1.0</td>\n",
       "      <td>0.0</td>\n",
       "      <td>0.0</td>\n",
       "      <td>0.0</td>\n",
       "      <td>0.0</td>\n",
       "      <td>0.0</td>\n",
       "      <td>0.0</td>\n",
       "      <td>0.0</td>\n",
       "      <td>0.0</td>\n",
       "      <td>0.0</td>\n",
       "      <td>...</td>\n",
       "      <td>0.0</td>\n",
       "      <td>0.0</td>\n",
       "      <td>1.0</td>\n",
       "      <td>1.0</td>\n",
       "      <td>0.0</td>\n",
       "      <td>0.0</td>\n",
       "      <td>0.0</td>\n",
       "      <td>0.0</td>\n",
       "      <td>0.0</td>\n",
       "      <td>2017.0</td>\n",
       "    </tr>\n",
       "    <tr>\n",
       "      <th>3</th>\n",
       "      <td>1.0</td>\n",
       "      <td>0.0</td>\n",
       "      <td>0.0</td>\n",
       "      <td>0.0</td>\n",
       "      <td>0.0</td>\n",
       "      <td>0.0</td>\n",
       "      <td>0.0</td>\n",
       "      <td>0.0</td>\n",
       "      <td>0.0</td>\n",
       "      <td>0.0</td>\n",
       "      <td>...</td>\n",
       "      <td>0.0</td>\n",
       "      <td>0.0</td>\n",
       "      <td>1.0</td>\n",
       "      <td>1.0</td>\n",
       "      <td>0.0</td>\n",
       "      <td>0.0</td>\n",
       "      <td>0.0</td>\n",
       "      <td>0.0</td>\n",
       "      <td>0.0</td>\n",
       "      <td>2018.0</td>\n",
       "    </tr>\n",
       "    <tr>\n",
       "      <th>4</th>\n",
       "      <td>1.0</td>\n",
       "      <td>0.0</td>\n",
       "      <td>0.0</td>\n",
       "      <td>0.0</td>\n",
       "      <td>0.0</td>\n",
       "      <td>0.0</td>\n",
       "      <td>0.0</td>\n",
       "      <td>0.0</td>\n",
       "      <td>0.0</td>\n",
       "      <td>0.0</td>\n",
       "      <td>...</td>\n",
       "      <td>0.0</td>\n",
       "      <td>0.0</td>\n",
       "      <td>1.0</td>\n",
       "      <td>1.0</td>\n",
       "      <td>0.0</td>\n",
       "      <td>0.0</td>\n",
       "      <td>0.0</td>\n",
       "      <td>0.0</td>\n",
       "      <td>0.0</td>\n",
       "      <td>2019.0</td>\n",
       "    </tr>\n",
       "  </tbody>\n",
       "</table>\n",
       "<p>5 rows × 758 columns</p>\n",
       "</div>"
      ],
      "text/plain": [
       "   0    1    2    3    4    5    6    7    8    9    ...  748  749  750  751  \\\n",
       "0  1.0  0.0  0.0  0.0  0.0  0.0  0.0  0.0  0.0  0.0  ...  0.0  0.0  1.0  1.0   \n",
       "1  1.0  0.0  0.0  0.0  0.0  0.0  0.0  0.0  0.0  0.0  ...  0.0  0.0  1.0  1.0   \n",
       "2  1.0  0.0  0.0  0.0  0.0  0.0  0.0  0.0  0.0  0.0  ...  0.0  0.0  1.0  1.0   \n",
       "3  1.0  0.0  0.0  0.0  0.0  0.0  0.0  0.0  0.0  0.0  ...  0.0  0.0  1.0  1.0   \n",
       "4  1.0  0.0  0.0  0.0  0.0  0.0  0.0  0.0  0.0  0.0  ...  0.0  0.0  1.0  1.0   \n",
       "\n",
       "   752  753  754  755  756     757  \n",
       "0  0.0  0.0  0.0  0.0  0.0  2015.0  \n",
       "1  0.0  0.0  0.0  0.0  0.0  2016.0  \n",
       "2  0.0  0.0  0.0  0.0  0.0  2017.0  \n",
       "3  0.0  0.0  0.0  0.0  0.0  2018.0  \n",
       "4  0.0  0.0  0.0  0.0  0.0  2019.0  \n",
       "\n",
       "[5 rows x 758 columns]"
      ]
     },
     "execution_count": 16,
     "metadata": {},
     "output_type": "execute_result"
    }
   ],
   "source": [
    "x_dummy.head()"
   ]
  },
  {
   "cell_type": "code",
   "execution_count": 23,
   "id": "00c8cfd3",
   "metadata": {},
   "outputs": [],
   "source": [
    "from sklearn.linear_model import Ridge\n",
    "from sklearn.model_selection import train_test_split\n",
    "np.random.seed(24)\n",
    "x1_train,x1_test,y1_train,y1_test=train_test_split(x_dummy,y,test_size=0.3)\n",
    "x2_train,x2_test,y2_train,y2_test=train_test_split(x_dummy,y,test_size=0.2)"
   ]
  },
  {
   "cell_type": "code",
   "execution_count": 24,
   "id": "cc271e24",
   "metadata": {},
   "outputs": [],
   "source": [
    "from sklearn.metrics import r2_score\n",
    "from sklearn.metrics import mean_absolute_error\n",
    "from sklearn.metrics import mean_squared_error\n",
    "from sklearn.ensemble import RandomForestRegressor"
   ]
  },
  {
   "cell_type": "code",
   "execution_count": 25,
   "id": "7372020c",
   "metadata": {},
   "outputs": [],
   "source": [
    "def evaluatemodel(y_test,y_pred):\n",
    "    mae=mean_absolute_error(y_test,y_pred)\n",
    "    mse=mean_squared_error(y_test,y_pred)\n",
    "    r_score=r2_score(y_test,y_pred)\n",
    "    print('R2-score:','%.4f'%r_score)\n",
    "    print('Mean absolute error:','%.4f'%mae)\n",
    "    print('Mean square error:','%.4f'%mse)"
   ]
  },
  {
   "cell_type": "code",
   "execution_count": 18,
   "id": "73eece81",
   "metadata": {},
   "outputs": [
    {
     "name": "stdout",
     "output_type": "stream",
     "text": [
      "accuracy: 78.85 percent\n",
      "R2-score: 0.7885\n",
      "Mean absolute error: 131.5752\n",
      "Mean square error: 506893.6787\n"
     ]
    }
   ],
   "source": [
    "ridmod1=Ridge()\n",
    "ridmod1.fit(x1_train,y1_train)\n",
    "score=ridmod1.score(x1_test,y1_test)\n",
    "y1_pred=ridmod1.predict(x1_test)\n",
    "print('accuracy:',('%.2f percent')%(score*100))\n",
    "evaluatemodel(y1_test,y1_pred)"
   ]
  },
  {
   "cell_type": "code",
   "execution_count": 19,
   "id": "3e1c00e9",
   "metadata": {},
   "outputs": [
    {
     "name": "stdout",
     "output_type": "stream",
     "text": [
      "accuracy: 80.08 percent\n",
      "R2-score: 0.8008\n",
      "Mean absolute error: 146.0763\n",
      "Mean square error: 567723.0434\n"
     ]
    }
   ],
   "source": [
    "ridmod2=Ridge()\n",
    "ridmod2.fit(x2_train,y2_train)\n",
    "score=ridmod2.score(x2_test,y2_test)\n",
    "y2_pred=ridmod2.predict(x2_test)\n",
    "print('accuracy:',('%.2f percent')%(score*100))\n",
    "evaluatemodel(y2_test,y2_pred)"
   ]
  },
  {
   "cell_type": "code",
   "execution_count": 20,
   "id": "4051c4c3",
   "metadata": {},
   "outputs": [
    {
     "name": "stdout",
     "output_type": "stream",
     "text": [
      "accuracy: 15.23 percent\n",
      "R2-score: 0.1523\n",
      "Mean absolute error: 245.8836\n",
      "Mean square error: 2031809.9610\n"
     ]
    },
    {
     "name": "stderr",
     "output_type": "stream",
     "text": [
      "C:\\Users\\Asus\\anaconda3\\lib\\site-packages\\sklearn\\svm\\_base.py:1244: ConvergenceWarning: Liblinear failed to converge, increase the number of iterations.\n",
      "  warnings.warn(\n"
     ]
    }
   ],
   "source": [
    "from sklearn.svm import LinearSVR\n",
    "lsvr1=LinearSVR()\n",
    "lsvr1.fit(x1_train,y1_train)\n",
    "score=lsvr1.score(x1_test,y1_test)\n",
    "y1_pred=lsvr1.predict(x1_test)\n",
    "print('accuracy:',('%.2f percent')%(score*100))\n",
    "evaluatemodel(y1_test,y1_pred)"
   ]
  },
  {
   "cell_type": "code",
   "execution_count": 21,
   "id": "a91b86ee",
   "metadata": {},
   "outputs": [
    {
     "name": "stdout",
     "output_type": "stream",
     "text": [
      "accuracy: 16.04 percent\n",
      "R2-score: 0.1604\n",
      "Mean absolute error: 267.0021\n",
      "Mean square error: 2392754.5354\n"
     ]
    },
    {
     "name": "stderr",
     "output_type": "stream",
     "text": [
      "C:\\Users\\Asus\\anaconda3\\lib\\site-packages\\sklearn\\svm\\_base.py:1244: ConvergenceWarning: Liblinear failed to converge, increase the number of iterations.\n",
      "  warnings.warn(\n"
     ]
    }
   ],
   "source": [
    "lsvr2=LinearSVR()\n",
    "lsvr2.fit(x1_train,y1_train)\n",
    "score=lsvr2.score(x2_test,y2_test)\n",
    "y2_pred=lsvr2.predict(x2_test)\n",
    "print('accuracy:',('%.2f percent')%(score*100))\n",
    "evaluatemodel(y2_test,y2_pred)"
   ]
  },
  {
   "cell_type": "code",
   "execution_count": 22,
   "id": "8aa19a15",
   "metadata": {},
   "outputs": [
    {
     "name": "stdout",
     "output_type": "stream",
     "text": [
      "accuracy: -1.68 percent\n",
      "R2-score: -0.0168\n",
      "Mean absolute error: 200.8994\n",
      "Mean square error: 2436996.4682\n"
     ]
    }
   ],
   "source": [
    "from sklearn.svm import SVR\n",
    "svr1=SVR()\n",
    "svr1.fit(x1_train,y1_train)\n",
    "score=svr1.score(x1_test,y1_test)\n",
    "y1_pred=svr1.predict(x1_test)\n",
    "print('accuracy:',('%.2f percent')%(score*100))\n",
    "evaluatemodel(y1_test,y1_pred)"
   ]
  },
  {
   "cell_type": "code",
   "execution_count": 24,
   "id": "34e3ee99",
   "metadata": {},
   "outputs": [
    {
     "name": "stdout",
     "output_type": "stream",
     "text": [
      "accuracy: 92.14 percent\n",
      "R2-score: 0.9214\n",
      "Mean absolute error: 33.5753\n",
      "Mean square error: 188377.4357\n"
     ]
    }
   ],
   "source": [
    "from sklearn.ensemble import RandomForestRegressor\n",
    "rfrmod=RandomForestRegressor()\n",
    "rfrmod.fit(x1_train,y1_train)\n",
    "score=rfrmod.score(x1_test,y1_test)\n",
    "y1_pred=rfrmod.predict(x1_test)\n",
    "print('accuracy:',('%.2f percent')%(score*100))\n",
    "evaluatemodel(y1_test,y1_pred)"
   ]
  },
  {
   "cell_type": "code",
   "execution_count": 28,
   "id": "d15ac51e",
   "metadata": {},
   "outputs": [
    {
     "name": "stdout",
     "output_type": "stream",
     "text": [
      "completed: 2000 datas\n",
      "saved: 2000 datas\n",
      "time taken= 158.23251366615295\n",
      "completed: 4000 datas\n",
      "saved: 4000 datas\n",
      "time taken= 0.013998985290527344\n",
      "completed: 6000 datas\n",
      "saved: 6000 datas\n",
      "time taken= 0.013000965118408203\n",
      "completed: 8000 datas\n",
      "saved: 8000 datas\n",
      "time taken= 0.012998819351196289\n",
      "completed: 10000 datas\n",
      "saved: 10000 datas\n",
      "time taken= 0.013000011444091797\n",
      "completed: 12000 datas\n",
      "saved: 12000 datas\n",
      "time taken= 0.013000965118408203\n",
      "completed: 14000 datas\n",
      "saved: 14000 datas\n",
      "time taken= 0.012999773025512695\n",
      "completed: 16000 datas\n",
      "saved: 16000 datas\n",
      "time taken= 0.01300358772277832\n",
      "completed: 18000 datas\n",
      "saved: 18000 datas\n",
      "time taken= 0.012026309967041016\n",
      "completed: 20000 datas\n",
      "saved: 20000 datas\n",
      "time taken= 0.012999534606933594\n",
      "completed: 22000 datas\n",
      "saved: 22000 datas\n",
      "time taken= 0.014000892639160156\n",
      "completed: 24000 datas\n",
      "saved: 24000 datas\n",
      "time taken= 0.01299905776977539\n",
      "completed: 26000 datas\n",
      "saved: 26000 datas\n",
      "time taken= 0.012000322341918945\n",
      "completed: 27316 datas\n",
      "saved: 27316 datas\n",
      "time taken= 0.010999679565429688\n",
      "27316 27316\n"
     ]
    },
    {
     "name": "stderr",
     "output_type": "stream",
     "text": [
      "C:\\Users\\Asus\\anaconda3\\lib\\site-packages\\sklearn\\ensemble\\_forest.py:452: UserWarning: Warm-start fitting without increasing n_estimators does not fit new trees.\n",
      "  warn(\n",
      "C:\\Users\\Asus\\anaconda3\\lib\\site-packages\\sklearn\\ensemble\\_forest.py:452: UserWarning: Warm-start fitting without increasing n_estimators does not fit new trees.\n",
      "  warn(\n",
      "C:\\Users\\Asus\\anaconda3\\lib\\site-packages\\sklearn\\ensemble\\_forest.py:452: UserWarning: Warm-start fitting without increasing n_estimators does not fit new trees.\n",
      "  warn(\n",
      "C:\\Users\\Asus\\anaconda3\\lib\\site-packages\\sklearn\\ensemble\\_forest.py:452: UserWarning: Warm-start fitting without increasing n_estimators does not fit new trees.\n",
      "  warn(\n",
      "C:\\Users\\Asus\\anaconda3\\lib\\site-packages\\sklearn\\ensemble\\_forest.py:452: UserWarning: Warm-start fitting without increasing n_estimators does not fit new trees.\n",
      "  warn(\n",
      "C:\\Users\\Asus\\anaconda3\\lib\\site-packages\\sklearn\\ensemble\\_forest.py:452: UserWarning: Warm-start fitting without increasing n_estimators does not fit new trees.\n",
      "  warn(\n",
      "C:\\Users\\Asus\\anaconda3\\lib\\site-packages\\sklearn\\ensemble\\_forest.py:452: UserWarning: Warm-start fitting without increasing n_estimators does not fit new trees.\n",
      "  warn(\n",
      "C:\\Users\\Asus\\anaconda3\\lib\\site-packages\\sklearn\\ensemble\\_forest.py:452: UserWarning: Warm-start fitting without increasing n_estimators does not fit new trees.\n",
      "  warn(\n",
      "C:\\Users\\Asus\\anaconda3\\lib\\site-packages\\sklearn\\ensemble\\_forest.py:452: UserWarning: Warm-start fitting without increasing n_estimators does not fit new trees.\n",
      "  warn(\n",
      "C:\\Users\\Asus\\anaconda3\\lib\\site-packages\\sklearn\\ensemble\\_forest.py:452: UserWarning: Warm-start fitting without increasing n_estimators does not fit new trees.\n",
      "  warn(\n",
      "C:\\Users\\Asus\\anaconda3\\lib\\site-packages\\sklearn\\ensemble\\_forest.py:452: UserWarning: Warm-start fitting without increasing n_estimators does not fit new trees.\n",
      "  warn(\n",
      "C:\\Users\\Asus\\anaconda3\\lib\\site-packages\\sklearn\\ensemble\\_forest.py:452: UserWarning: Warm-start fitting without increasing n_estimators does not fit new trees.\n",
      "  warn(\n",
      "C:\\Users\\Asus\\anaconda3\\lib\\site-packages\\sklearn\\ensemble\\_forest.py:452: UserWarning: Warm-start fitting without increasing n_estimators does not fit new trees.\n",
      "  warn(\n"
     ]
    },
    {
     "name": "stdout",
     "output_type": "stream",
     "text": [
      "accuracy: 76.04 percent\n",
      "R2-score: 0.7604\n",
      "Mean absolute error: 71.1355\n",
      "Mean square error: 574359.1612\n"
     ]
    }
   ],
   "source": [
    "rfrmod_tuned=RandomForestRegressor(n_estimators=200,min_samples_split=100,criterion='absolute_error',warm_start=True)\n",
    "n=len(x1_train)\n",
    "for i in range(0,n,2000):\n",
    "    starttime=time.time()\n",
    "    start=i\n",
    "    if(i+2000>n):\n",
    "        stop=n\n",
    "    else:\n",
    "        stop=i+2000\n",
    "    rfrmod_tuned.fit(x1_train[start:stop],y1_train[start:stop])\n",
    "    print('completed:',stop,'datas')\n",
    "    f=open('tuned_yield_predmodel.pkl','wb')\n",
    "    pkl.dump(rfrmod_tuned,f)\n",
    "    print('saved:',stop,'datas')\n",
    "    endtime=time.time()\n",
    "    print('time taken=',endtime-starttime)\n",
    "    \n",
    "    \n",
    "print(len(x1_train),len(y1_train))\n",
    "score=rfrmod_tuned.score(x1_test,y1_test)\n",
    "y1_pred=rfrmod_tuned.predict(x1_test)\n",
    "print('accuracy:',('%.2f percent')%(score*100))\n",
    "evaluatemodel(y1_test,y1_pred)\n"
   ]
  },
  {
   "cell_type": "code",
   "execution_count": 21,
   "id": "0c184178",
   "metadata": {},
   "outputs": [],
   "source": [
    "from sklearn.ensemble import RandomForestRegressor\n",
    "import pickle as pkl\n",
    "import time\n"
   ]
  },
  {
   "cell_type": "code",
   "execution_count": 29,
   "id": "92adade9",
   "metadata": {},
   "outputs": [
    {
     "name": "stdout",
     "output_type": "stream",
     "text": [
      "accuracy: 65.70 percent\n",
      "R2-score: 0.7604\n",
      "Mean absolute error: 71.1355\n",
      "Mean square error: 574359.1612\n"
     ]
    }
   ],
   "source": [
    "score=rfrmod_tuned.score(x1_train[:300],y1_train[:300])\n",
    "y1_pred=rfrmod_tuned.predict(x1_test)\n",
    "print('accuracy:',('%.2f percent')%(score*100))\n",
    "evaluatemodel(y1_test,y1_pred)\n"
   ]
  },
  {
   "cell_type": "code",
   "execution_count": null,
   "id": "7bb6d2bb",
   "metadata": {},
   "outputs": [],
   "source": []
  }
 ],
 "metadata": {
  "kernelspec": {
   "display_name": "Python 3 (ipykernel)",
   "language": "python",
   "name": "python3"
  },
  "language_info": {
   "codemirror_mode": {
    "name": "ipython",
    "version": 3
   },
   "file_extension": ".py",
   "mimetype": "text/x-python",
   "name": "python",
   "nbconvert_exporter": "python",
   "pygments_lexer": "ipython3",
   "version": "3.10.9"
  }
 },
 "nbformat": 4,
 "nbformat_minor": 5
}
