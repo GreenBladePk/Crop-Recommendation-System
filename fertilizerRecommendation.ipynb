{
 "cells": [
  {
   "cell_type": "code",
   "execution_count": 1,
   "metadata": {},
   "outputs": [],
   "source": [
    "import numpy as np\n",
    "import pandas as pd\n",
    "import matplotlib.pyplot as plt\n",
    "import seaborn as sns\n",
    "import imblearn\n",
    "from imblearn.over_sampling import SMOTE\n",
    "from collections import Counter\n",
    "\n",
    "from sklearn.preprocessing import StandardScaler, LabelEncoder\n",
    "from sklearn.pipeline import make_pipeline\n",
    "from sklearn.model_selection import train_test_split\n",
    "\n",
    "from sklearn.neighbors import  KNeighborsClassifier\n",
    "from sklearn.ensemble import RandomForestClassifier\n",
    "from sklearn.svm import SVC\n",
    "import pickle\n",
    "\n",
    "import warnings\n",
    "warnings.filterwarnings(\"ignore\")\n",
    "\n",
    "%matplotlib inline"
   ]
  },
  {
   "cell_type": "code",
   "execution_count": 2,
   "metadata": {},
   "outputs": [
    {
     "name": "stdout",
     "output_type": "stream",
     "text": [
      "    Temparature  Humidity   Moisture Soil Type  Crop Type  Nitrogen  \\\n",
      "0            26         52        38     Sandy      Maize        37   \n",
      "1            29         52        45     Loamy  Sugarcane        12   \n",
      "2            34         65        62     Black     Cotton         7   \n",
      "3            32         62        34       Red    Tobacco        22   \n",
      "4            28         54        46    Clayey      Paddy        35   \n",
      "..          ...        ...       ...       ...        ...       ...   \n",
      "94           25         50        32    Clayey     Pulses        24   \n",
      "95           30         60        27       Red    Tobacco         4   \n",
      "96           38         72        51     Loamy      Wheat        39   \n",
      "97           36         60        43     Sandy    Millets        15   \n",
      "98           29         58        57     Black  Sugarcane        12   \n",
      "\n",
      "    Potassium  Phosphorous Fertilizer Name  \n",
      "0           0            0            Urea  \n",
      "1           0           36             DAP  \n",
      "2           9           30        14-35-14  \n",
      "3           0           20           28-28  \n",
      "4           0            0            Urea  \n",
      "..        ...          ...             ...  \n",
      "94          0           19           28-28  \n",
      "95         17           17        10-26-26  \n",
      "96          0            0            Urea  \n",
      "97          0           41             DAP  \n",
      "98          0           10           20-20  \n",
      "\n",
      "[99 rows x 9 columns]\n"
     ]
    },
    {
     "data": {
      "text/html": [
       "<div>\n",
       "<style scoped>\n",
       "    .dataframe tbody tr th:only-of-type {\n",
       "        vertical-align: middle;\n",
       "    }\n",
       "\n",
       "    .dataframe tbody tr th {\n",
       "        vertical-align: top;\n",
       "    }\n",
       "\n",
       "    .dataframe thead th {\n",
       "        text-align: right;\n",
       "    }\n",
       "</style>\n",
       "<table border=\"1\" class=\"dataframe\">\n",
       "  <thead>\n",
       "    <tr style=\"text-align: right;\">\n",
       "      <th></th>\n",
       "      <th>Temparature</th>\n",
       "      <th>Humidity</th>\n",
       "      <th>Moisture</th>\n",
       "      <th>Nitrogen</th>\n",
       "      <th>Potassium</th>\n",
       "      <th>Phosphorous</th>\n",
       "    </tr>\n",
       "  </thead>\n",
       "  <tbody>\n",
       "    <tr>\n",
       "      <th>count</th>\n",
       "      <td>99.000000</td>\n",
       "      <td>99.000000</td>\n",
       "      <td>99.000000</td>\n",
       "      <td>99.000000</td>\n",
       "      <td>99.000000</td>\n",
       "      <td>99.000000</td>\n",
       "    </tr>\n",
       "    <tr>\n",
       "      <th>mean</th>\n",
       "      <td>30.282828</td>\n",
       "      <td>59.151515</td>\n",
       "      <td>43.181818</td>\n",
       "      <td>18.909091</td>\n",
       "      <td>3.383838</td>\n",
       "      <td>18.606061</td>\n",
       "    </tr>\n",
       "    <tr>\n",
       "      <th>std</th>\n",
       "      <td>3.502304</td>\n",
       "      <td>5.840331</td>\n",
       "      <td>11.271568</td>\n",
       "      <td>11.599693</td>\n",
       "      <td>5.814667</td>\n",
       "      <td>13.476978</td>\n",
       "    </tr>\n",
       "    <tr>\n",
       "      <th>min</th>\n",
       "      <td>25.000000</td>\n",
       "      <td>50.000000</td>\n",
       "      <td>25.000000</td>\n",
       "      <td>4.000000</td>\n",
       "      <td>0.000000</td>\n",
       "      <td>0.000000</td>\n",
       "    </tr>\n",
       "    <tr>\n",
       "      <th>25%</th>\n",
       "      <td>28.000000</td>\n",
       "      <td>54.000000</td>\n",
       "      <td>34.000000</td>\n",
       "      <td>10.000000</td>\n",
       "      <td>0.000000</td>\n",
       "      <td>9.000000</td>\n",
       "    </tr>\n",
       "    <tr>\n",
       "      <th>50%</th>\n",
       "      <td>30.000000</td>\n",
       "      <td>60.000000</td>\n",
       "      <td>41.000000</td>\n",
       "      <td>13.000000</td>\n",
       "      <td>0.000000</td>\n",
       "      <td>19.000000</td>\n",
       "    </tr>\n",
       "    <tr>\n",
       "      <th>75%</th>\n",
       "      <td>33.000000</td>\n",
       "      <td>64.000000</td>\n",
       "      <td>50.500000</td>\n",
       "      <td>24.000000</td>\n",
       "      <td>7.500000</td>\n",
       "      <td>30.000000</td>\n",
       "    </tr>\n",
       "    <tr>\n",
       "      <th>max</th>\n",
       "      <td>38.000000</td>\n",
       "      <td>72.000000</td>\n",
       "      <td>65.000000</td>\n",
       "      <td>42.000000</td>\n",
       "      <td>19.000000</td>\n",
       "      <td>42.000000</td>\n",
       "    </tr>\n",
       "  </tbody>\n",
       "</table>\n",
       "</div>"
      ],
      "text/plain": [
       "       Temparature  Humidity    Moisture   Nitrogen  Potassium  Phosphorous\n",
       "count    99.000000  99.000000  99.000000  99.000000  99.000000    99.000000\n",
       "mean     30.282828  59.151515  43.181818  18.909091   3.383838    18.606061\n",
       "std       3.502304   5.840331  11.271568  11.599693   5.814667    13.476978\n",
       "min      25.000000  50.000000  25.000000   4.000000   0.000000     0.000000\n",
       "25%      28.000000  54.000000  34.000000  10.000000   0.000000     9.000000\n",
       "50%      30.000000  60.000000  41.000000  13.000000   0.000000    19.000000\n",
       "75%      33.000000  64.000000  50.500000  24.000000   7.500000    30.000000\n",
       "max      38.000000  72.000000  65.000000  42.000000  19.000000    42.000000"
      ]
     },
     "execution_count": 2,
     "metadata": {},
     "output_type": "execute_result"
    }
   ],
   "source": [
    "data = pd.read_csv(\"D:\\Research Internship\\Programs\\Datasets\\FertilizerPrediction.csv\")\n",
    "print(data)\n",
    "data.describe()"
   ]
  },
  {
   "cell_type": "code",
   "execution_count": 3,
   "metadata": {},
   "outputs": [
    {
     "name": "stdout",
     "output_type": "stream",
     "text": [
      "<class 'pandas.core.frame.DataFrame'>\n",
      "RangeIndex: 99 entries, 0 to 98\n",
      "Data columns (total 9 columns):\n",
      " #   Column           Non-Null Count  Dtype \n",
      "---  ------           --------------  ----- \n",
      " 0   Temparature      99 non-null     int64 \n",
      " 1   Humidity         99 non-null     int64 \n",
      " 2   Moisture         99 non-null     int64 \n",
      " 3   Soil Type        99 non-null     object\n",
      " 4   Crop Type        99 non-null     object\n",
      " 5   Nitrogen         99 non-null     int64 \n",
      " 6   Potassium        99 non-null     int64 \n",
      " 7   Phosphorous      99 non-null     int64 \n",
      " 8   Fertilizer Name  99 non-null     object\n",
      "dtypes: int64(6), object(3)\n",
      "memory usage: 7.1+ KB\n"
     ]
    }
   ],
   "source": [
    "data.info()"
   ]
  },
  {
   "cell_type": "code",
   "execution_count": 4,
   "metadata": {},
   "outputs": [
    {
     "data": {
      "text/html": [
       "<div>\n",
       "<style scoped>\n",
       "    .dataframe tbody tr th:only-of-type {\n",
       "        vertical-align: middle;\n",
       "    }\n",
       "\n",
       "    .dataframe tbody tr th {\n",
       "        vertical-align: top;\n",
       "    }\n",
       "\n",
       "    .dataframe thead th {\n",
       "        text-align: right;\n",
       "    }\n",
       "</style>\n",
       "<table border=\"1\" class=\"dataframe\">\n",
       "  <thead>\n",
       "    <tr style=\"text-align: right;\">\n",
       "      <th></th>\n",
       "      <th>Temparature</th>\n",
       "      <th>Humidity</th>\n",
       "      <th>Moisture</th>\n",
       "      <th>Soil Type</th>\n",
       "      <th>Crop Type</th>\n",
       "      <th>Nitrogen</th>\n",
       "      <th>Potassium</th>\n",
       "      <th>Phosphorous</th>\n",
       "      <th>Fertilizer Name</th>\n",
       "    </tr>\n",
       "  </thead>\n",
       "  <tbody>\n",
       "    <tr>\n",
       "      <th>0</th>\n",
       "      <td>26</td>\n",
       "      <td>52</td>\n",
       "      <td>38</td>\n",
       "      <td>Sandy</td>\n",
       "      <td>Maize</td>\n",
       "      <td>37</td>\n",
       "      <td>0</td>\n",
       "      <td>0</td>\n",
       "      <td>Urea</td>\n",
       "    </tr>\n",
       "    <tr>\n",
       "      <th>1</th>\n",
       "      <td>29</td>\n",
       "      <td>52</td>\n",
       "      <td>45</td>\n",
       "      <td>Loamy</td>\n",
       "      <td>Sugarcane</td>\n",
       "      <td>12</td>\n",
       "      <td>0</td>\n",
       "      <td>36</td>\n",
       "      <td>DAP</td>\n",
       "    </tr>\n",
       "    <tr>\n",
       "      <th>2</th>\n",
       "      <td>34</td>\n",
       "      <td>65</td>\n",
       "      <td>62</td>\n",
       "      <td>Black</td>\n",
       "      <td>Cotton</td>\n",
       "      <td>7</td>\n",
       "      <td>9</td>\n",
       "      <td>30</td>\n",
       "      <td>14-35-14</td>\n",
       "    </tr>\n",
       "    <tr>\n",
       "      <th>3</th>\n",
       "      <td>32</td>\n",
       "      <td>62</td>\n",
       "      <td>34</td>\n",
       "      <td>Red</td>\n",
       "      <td>Tobacco</td>\n",
       "      <td>22</td>\n",
       "      <td>0</td>\n",
       "      <td>20</td>\n",
       "      <td>28-28</td>\n",
       "    </tr>\n",
       "    <tr>\n",
       "      <th>4</th>\n",
       "      <td>28</td>\n",
       "      <td>54</td>\n",
       "      <td>46</td>\n",
       "      <td>Clayey</td>\n",
       "      <td>Paddy</td>\n",
       "      <td>35</td>\n",
       "      <td>0</td>\n",
       "      <td>0</td>\n",
       "      <td>Urea</td>\n",
       "    </tr>\n",
       "  </tbody>\n",
       "</table>\n",
       "</div>"
      ],
      "text/plain": [
       "   Temparature  Humidity   Moisture Soil Type  Crop Type  Nitrogen  Potassium  \\\n",
       "0           26         52        38     Sandy      Maize        37          0   \n",
       "1           29         52        45     Loamy  Sugarcane        12          0   \n",
       "2           34         65        62     Black     Cotton         7          9   \n",
       "3           32         62        34       Red    Tobacco        22          0   \n",
       "4           28         54        46    Clayey      Paddy        35          0   \n",
       "\n",
       "   Phosphorous Fertilizer Name  \n",
       "0            0            Urea  \n",
       "1           36             DAP  \n",
       "2           30        14-35-14  \n",
       "3           20           28-28  \n",
       "4            0            Urea  "
      ]
     },
     "execution_count": 4,
     "metadata": {},
     "output_type": "execute_result"
    }
   ],
   "source": [
    "data.head()"
   ]
  },
  {
   "cell_type": "code",
   "execution_count": 5,
   "metadata": {},
   "outputs": [
    {
     "data": {
      "text/plain": [
       "Index(['Temparature', 'Humidity ', 'Moisture', 'Soil Type', 'Crop Type',\n",
       "       'Nitrogen', 'Potassium', 'Phosphorous', 'Fertilizer Name'],\n",
       "      dtype='object')"
      ]
     },
     "execution_count": 5,
     "metadata": {},
     "output_type": "execute_result"
    }
   ],
   "source": [
    "data.columns"
   ]
  },
  {
   "attachments": {},
   "cell_type": "markdown",
   "metadata": {},
   "source": [
    "# Data Preprocessing\n"
   ]
  },
  {
   "cell_type": "code",
   "execution_count": 6,
   "metadata": {},
   "outputs": [
    {
     "data": {
      "text/plain": [
       "Counter({'Temparature': 1,\n",
       "         'Humidity ': 1,\n",
       "         'Moisture': 1,\n",
       "         'Soil Type': 1,\n",
       "         'Crop Type': 1,\n",
       "         'Nitrogen': 1,\n",
       "         'Potassium': 1,\n",
       "         'Phosphorous': 1})"
      ]
     },
     "execution_count": 6,
     "metadata": {},
     "output_type": "execute_result"
    }
   ],
   "source": [
    "X_count = Counter(data.drop('Fertilizer Name', axis=1))\n",
    "X_count"
   ]
  },
  {
   "cell_type": "code",
   "execution_count": 7,
   "metadata": {},
   "outputs": [
    {
     "data": {
      "text/plain": [
       "Counter({'Urea': 22,\n",
       "         'DAP': 18,\n",
       "         '14-35-14': 14,\n",
       "         '28-28': 17,\n",
       "         '17-17-17': 7,\n",
       "         '20-20': 14,\n",
       "         '10-26-26': 7})"
      ]
     },
     "execution_count": 7,
     "metadata": {},
     "output_type": "execute_result"
    }
   ],
   "source": [
    "y_count =Counter(data['Fertilizer Name'])\n",
    "y_count"
   ]
  },
  {
   "attachments": {},
   "cell_type": "markdown",
   "metadata": {},
   "source": [
    "### Label Encoding"
   ]
  },
  {
   "cell_type": "code",
   "execution_count": 8,
   "metadata": {},
   "outputs": [],
   "source": [
    "Soillabelencoder = LabelEncoder()\n",
    "\n",
    "data[\"Soil Type\"] = Soillabelencoder.fit_transform(data[\"Soil Type\"])\n",
    "\n",
    "croplabelencoder = LabelEncoder()\n",
    "data[\"Crop Type\"] = croplabelencoder.fit_transform(data[\"Crop Type\"])\n",
    "\n",
    "fertilabelencoder = LabelEncoder()\n",
    "data[\"Fertilizer Name\"] = fertilabelencoder.fit_transform(data[\"Fertilizer Name\"])"
   ]
  },
  {
   "cell_type": "code",
   "execution_count": 9,
   "metadata": {},
   "outputs": [
    {
     "data": {
      "text/html": [
       "<div>\n",
       "<style scoped>\n",
       "    .dataframe tbody tr th:only-of-type {\n",
       "        vertical-align: middle;\n",
       "    }\n",
       "\n",
       "    .dataframe tbody tr th {\n",
       "        vertical-align: top;\n",
       "    }\n",
       "\n",
       "    .dataframe thead th {\n",
       "        text-align: right;\n",
       "    }\n",
       "</style>\n",
       "<table border=\"1\" class=\"dataframe\">\n",
       "  <thead>\n",
       "    <tr style=\"text-align: right;\">\n",
       "      <th></th>\n",
       "      <th>Temparature</th>\n",
       "      <th>Humidity</th>\n",
       "      <th>Moisture</th>\n",
       "      <th>Soil Type</th>\n",
       "      <th>Crop Type</th>\n",
       "      <th>Nitrogen</th>\n",
       "      <th>Potassium</th>\n",
       "      <th>Phosphorous</th>\n",
       "      <th>Fertilizer Name</th>\n",
       "    </tr>\n",
       "  </thead>\n",
       "  <tbody>\n",
       "    <tr>\n",
       "      <th>0</th>\n",
       "      <td>26</td>\n",
       "      <td>52</td>\n",
       "      <td>38</td>\n",
       "      <td>4</td>\n",
       "      <td>3</td>\n",
       "      <td>37</td>\n",
       "      <td>0</td>\n",
       "      <td>0</td>\n",
       "      <td>6</td>\n",
       "    </tr>\n",
       "    <tr>\n",
       "      <th>1</th>\n",
       "      <td>29</td>\n",
       "      <td>52</td>\n",
       "      <td>45</td>\n",
       "      <td>2</td>\n",
       "      <td>8</td>\n",
       "      <td>12</td>\n",
       "      <td>0</td>\n",
       "      <td>36</td>\n",
       "      <td>5</td>\n",
       "    </tr>\n",
       "    <tr>\n",
       "      <th>2</th>\n",
       "      <td>34</td>\n",
       "      <td>65</td>\n",
       "      <td>62</td>\n",
       "      <td>0</td>\n",
       "      <td>1</td>\n",
       "      <td>7</td>\n",
       "      <td>9</td>\n",
       "      <td>30</td>\n",
       "      <td>1</td>\n",
       "    </tr>\n",
       "    <tr>\n",
       "      <th>3</th>\n",
       "      <td>32</td>\n",
       "      <td>62</td>\n",
       "      <td>34</td>\n",
       "      <td>3</td>\n",
       "      <td>9</td>\n",
       "      <td>22</td>\n",
       "      <td>0</td>\n",
       "      <td>20</td>\n",
       "      <td>4</td>\n",
       "    </tr>\n",
       "    <tr>\n",
       "      <th>4</th>\n",
       "      <td>28</td>\n",
       "      <td>54</td>\n",
       "      <td>46</td>\n",
       "      <td>1</td>\n",
       "      <td>6</td>\n",
       "      <td>35</td>\n",
       "      <td>0</td>\n",
       "      <td>0</td>\n",
       "      <td>6</td>\n",
       "    </tr>\n",
       "    <tr>\n",
       "      <th>...</th>\n",
       "      <td>...</td>\n",
       "      <td>...</td>\n",
       "      <td>...</td>\n",
       "      <td>...</td>\n",
       "      <td>...</td>\n",
       "      <td>...</td>\n",
       "      <td>...</td>\n",
       "      <td>...</td>\n",
       "      <td>...</td>\n",
       "    </tr>\n",
       "    <tr>\n",
       "      <th>94</th>\n",
       "      <td>25</td>\n",
       "      <td>50</td>\n",
       "      <td>32</td>\n",
       "      <td>1</td>\n",
       "      <td>7</td>\n",
       "      <td>24</td>\n",
       "      <td>0</td>\n",
       "      <td>19</td>\n",
       "      <td>4</td>\n",
       "    </tr>\n",
       "    <tr>\n",
       "      <th>95</th>\n",
       "      <td>30</td>\n",
       "      <td>60</td>\n",
       "      <td>27</td>\n",
       "      <td>3</td>\n",
       "      <td>9</td>\n",
       "      <td>4</td>\n",
       "      <td>17</td>\n",
       "      <td>17</td>\n",
       "      <td>0</td>\n",
       "    </tr>\n",
       "    <tr>\n",
       "      <th>96</th>\n",
       "      <td>38</td>\n",
       "      <td>72</td>\n",
       "      <td>51</td>\n",
       "      <td>2</td>\n",
       "      <td>10</td>\n",
       "      <td>39</td>\n",
       "      <td>0</td>\n",
       "      <td>0</td>\n",
       "      <td>6</td>\n",
       "    </tr>\n",
       "    <tr>\n",
       "      <th>97</th>\n",
       "      <td>36</td>\n",
       "      <td>60</td>\n",
       "      <td>43</td>\n",
       "      <td>4</td>\n",
       "      <td>4</td>\n",
       "      <td>15</td>\n",
       "      <td>0</td>\n",
       "      <td>41</td>\n",
       "      <td>5</td>\n",
       "    </tr>\n",
       "    <tr>\n",
       "      <th>98</th>\n",
       "      <td>29</td>\n",
       "      <td>58</td>\n",
       "      <td>57</td>\n",
       "      <td>0</td>\n",
       "      <td>8</td>\n",
       "      <td>12</td>\n",
       "      <td>0</td>\n",
       "      <td>10</td>\n",
       "      <td>3</td>\n",
       "    </tr>\n",
       "  </tbody>\n",
       "</table>\n",
       "<p>99 rows × 9 columns</p>\n",
       "</div>"
      ],
      "text/plain": [
       "    Temparature  Humidity   Moisture  Soil Type  Crop Type  Nitrogen  \\\n",
       "0            26         52        38          4          3        37   \n",
       "1            29         52        45          2          8        12   \n",
       "2            34         65        62          0          1         7   \n",
       "3            32         62        34          3          9        22   \n",
       "4            28         54        46          1          6        35   \n",
       "..          ...        ...       ...        ...        ...       ...   \n",
       "94           25         50        32          1          7        24   \n",
       "95           30         60        27          3          9         4   \n",
       "96           38         72        51          2         10        39   \n",
       "97           36         60        43          4          4        15   \n",
       "98           29         58        57          0          8        12   \n",
       "\n",
       "    Potassium  Phosphorous  Fertilizer Name  \n",
       "0           0            0                6  \n",
       "1           0           36                5  \n",
       "2           9           30                1  \n",
       "3           0           20                4  \n",
       "4           0            0                6  \n",
       "..        ...          ...              ...  \n",
       "94          0           19                4  \n",
       "95         17           17                0  \n",
       "96          0            0                6  \n",
       "97          0           41                5  \n",
       "98          0           10                3  \n",
       "\n",
       "[99 rows x 9 columns]"
      ]
     },
     "execution_count": 9,
     "metadata": {},
     "output_type": "execute_result"
    }
   ],
   "source": [
    "data"
   ]
  },
  {
   "cell_type": "code",
   "execution_count": 10,
   "metadata": {},
   "outputs": [],
   "source": [
    "X = data[data.columns[:-1]]\n",
    "y = data[data.columns[-1]]"
   ]
  },
  {
   "cell_type": "code",
   "execution_count": 11,
   "metadata": {},
   "outputs": [
    {
     "data": {
      "text/plain": [
       "(99, 8)"
      ]
     },
     "execution_count": 11,
     "metadata": {},
     "output_type": "execute_result"
    }
   ],
   "source": [
    "X.shape\n"
   ]
  },
  {
   "cell_type": "code",
   "execution_count": 12,
   "metadata": {},
   "outputs": [
    {
     "data": {
      "text/plain": [
       "(99,)"
      ]
     },
     "execution_count": 12,
     "metadata": {},
     "output_type": "execute_result"
    }
   ],
   "source": [
    "y.shape"
   ]
  },
  {
   "attachments": {},
   "cell_type": "markdown",
   "metadata": {},
   "source": [
    "# Upsampling the data"
   ]
  },
  {
   "cell_type": "code",
   "execution_count": 13,
   "metadata": {},
   "outputs": [],
   "source": [
    "upsample = SMOTE()\n",
    "X_upsampled, y_upsampled = upsample.fit_resample(X, y)\n"
   ]
  },
  {
   "cell_type": "code",
   "execution_count": 14,
   "metadata": {},
   "outputs": [
    {
     "name": "stdout",
     "output_type": "stream",
     "text": [
      "Counter({'Temparature': 1, 'Humidity ': 1, 'Moisture': 1, 'Soil Type': 1, 'Crop Type': 1, 'Nitrogen': 1, 'Potassium': 1, 'Phosphorous': 1})\n",
      "     Temparature  Humidity   Moisture  Soil Type  Crop Type  Nitrogen  \\\n",
      "0             26         52        38          4          3        37   \n",
      "1             29         52        45          2          8        12   \n",
      "2             34         65        62          0          1         7   \n",
      "3             32         62        34          3          9        22   \n",
      "4             28         54        46          1          6        35   \n",
      "..           ...        ...       ...        ...        ...       ...   \n",
      "149           25         51        39          1          5        21   \n",
      "150           29         55        48          2          9        12   \n",
      "151           33         59        40          4          4        15   \n",
      "152           32         63        31          3          2        13   \n",
      "153           29         53        47          2          8        12   \n",
      "\n",
      "     Potassium  Phosphorous  \n",
      "0            0            0  \n",
      "1            0           36  \n",
      "2            9           30  \n",
      "3            0           20  \n",
      "4            0            0  \n",
      "..         ...          ...  \n",
      "149          0           22  \n",
      "150          0           36  \n",
      "151          0           39  \n",
      "152          0           38  \n",
      "153          0           36  \n",
      "\n",
      "[154 rows x 8 columns]\n",
      "Counter({6: 22, 5: 22, 1: 22, 4: 22, 2: 22, 3: 22, 0: 22})\n"
     ]
    }
   ],
   "source": [
    "X_count = Counter(X_upsampled)\n",
    "print(X_count)\n",
    "print(X_upsampled)\n",
    "y_count = Counter(y_upsampled)\n",
    "print(y_count)"
   ]
  },
  {
   "cell_type": "code",
   "execution_count": 15,
   "metadata": {},
   "outputs": [
    {
     "data": {
      "text/html": [
       "<div>\n",
       "<style scoped>\n",
       "    .dataframe tbody tr th:only-of-type {\n",
       "        vertical-align: middle;\n",
       "    }\n",
       "\n",
       "    .dataframe tbody tr th {\n",
       "        vertical-align: top;\n",
       "    }\n",
       "\n",
       "    .dataframe thead th {\n",
       "        text-align: right;\n",
       "    }\n",
       "</style>\n",
       "<table border=\"1\" class=\"dataframe\">\n",
       "  <thead>\n",
       "    <tr style=\"text-align: right;\">\n",
       "      <th></th>\n",
       "      <th>Temparature</th>\n",
       "      <th>Humidity</th>\n",
       "      <th>Moisture</th>\n",
       "      <th>Soil Type</th>\n",
       "      <th>Crop Type</th>\n",
       "      <th>Nitrogen</th>\n",
       "      <th>Potassium</th>\n",
       "      <th>Phosphorous</th>\n",
       "      <th>Fertilizer Name</th>\n",
       "    </tr>\n",
       "  </thead>\n",
       "  <tbody>\n",
       "    <tr>\n",
       "      <th>0</th>\n",
       "      <td>26</td>\n",
       "      <td>52</td>\n",
       "      <td>38</td>\n",
       "      <td>4</td>\n",
       "      <td>3</td>\n",
       "      <td>37</td>\n",
       "      <td>0</td>\n",
       "      <td>0</td>\n",
       "      <td>6</td>\n",
       "    </tr>\n",
       "    <tr>\n",
       "      <th>1</th>\n",
       "      <td>29</td>\n",
       "      <td>52</td>\n",
       "      <td>45</td>\n",
       "      <td>2</td>\n",
       "      <td>8</td>\n",
       "      <td>12</td>\n",
       "      <td>0</td>\n",
       "      <td>36</td>\n",
       "      <td>5</td>\n",
       "    </tr>\n",
       "    <tr>\n",
       "      <th>2</th>\n",
       "      <td>34</td>\n",
       "      <td>65</td>\n",
       "      <td>62</td>\n",
       "      <td>0</td>\n",
       "      <td>1</td>\n",
       "      <td>7</td>\n",
       "      <td>9</td>\n",
       "      <td>30</td>\n",
       "      <td>1</td>\n",
       "    </tr>\n",
       "    <tr>\n",
       "      <th>3</th>\n",
       "      <td>32</td>\n",
       "      <td>62</td>\n",
       "      <td>34</td>\n",
       "      <td>3</td>\n",
       "      <td>9</td>\n",
       "      <td>22</td>\n",
       "      <td>0</td>\n",
       "      <td>20</td>\n",
       "      <td>4</td>\n",
       "    </tr>\n",
       "    <tr>\n",
       "      <th>4</th>\n",
       "      <td>28</td>\n",
       "      <td>54</td>\n",
       "      <td>46</td>\n",
       "      <td>1</td>\n",
       "      <td>6</td>\n",
       "      <td>35</td>\n",
       "      <td>0</td>\n",
       "      <td>0</td>\n",
       "      <td>6</td>\n",
       "    </tr>\n",
       "    <tr>\n",
       "      <th>...</th>\n",
       "      <td>...</td>\n",
       "      <td>...</td>\n",
       "      <td>...</td>\n",
       "      <td>...</td>\n",
       "      <td>...</td>\n",
       "      <td>...</td>\n",
       "      <td>...</td>\n",
       "      <td>...</td>\n",
       "      <td>...</td>\n",
       "    </tr>\n",
       "    <tr>\n",
       "      <th>149</th>\n",
       "      <td>25</td>\n",
       "      <td>51</td>\n",
       "      <td>39</td>\n",
       "      <td>1</td>\n",
       "      <td>5</td>\n",
       "      <td>21</td>\n",
       "      <td>0</td>\n",
       "      <td>22</td>\n",
       "      <td>4</td>\n",
       "    </tr>\n",
       "    <tr>\n",
       "      <th>150</th>\n",
       "      <td>29</td>\n",
       "      <td>55</td>\n",
       "      <td>48</td>\n",
       "      <td>2</td>\n",
       "      <td>9</td>\n",
       "      <td>12</td>\n",
       "      <td>0</td>\n",
       "      <td>36</td>\n",
       "      <td>5</td>\n",
       "    </tr>\n",
       "    <tr>\n",
       "      <th>151</th>\n",
       "      <td>33</td>\n",
       "      <td>59</td>\n",
       "      <td>40</td>\n",
       "      <td>4</td>\n",
       "      <td>4</td>\n",
       "      <td>15</td>\n",
       "      <td>0</td>\n",
       "      <td>39</td>\n",
       "      <td>5</td>\n",
       "    </tr>\n",
       "    <tr>\n",
       "      <th>152</th>\n",
       "      <td>32</td>\n",
       "      <td>63</td>\n",
       "      <td>31</td>\n",
       "      <td>3</td>\n",
       "      <td>2</td>\n",
       "      <td>13</td>\n",
       "      <td>0</td>\n",
       "      <td>38</td>\n",
       "      <td>5</td>\n",
       "    </tr>\n",
       "    <tr>\n",
       "      <th>153</th>\n",
       "      <td>29</td>\n",
       "      <td>53</td>\n",
       "      <td>47</td>\n",
       "      <td>2</td>\n",
       "      <td>8</td>\n",
       "      <td>12</td>\n",
       "      <td>0</td>\n",
       "      <td>36</td>\n",
       "      <td>5</td>\n",
       "    </tr>\n",
       "  </tbody>\n",
       "</table>\n",
       "<p>154 rows × 9 columns</p>\n",
       "</div>"
      ],
      "text/plain": [
       "     Temparature  Humidity   Moisture  Soil Type  Crop Type  Nitrogen  \\\n",
       "0             26         52        38          4          3        37   \n",
       "1             29         52        45          2          8        12   \n",
       "2             34         65        62          0          1         7   \n",
       "3             32         62        34          3          9        22   \n",
       "4             28         54        46          1          6        35   \n",
       "..           ...        ...       ...        ...        ...       ...   \n",
       "149           25         51        39          1          5        21   \n",
       "150           29         55        48          2          9        12   \n",
       "151           33         59        40          4          4        15   \n",
       "152           32         63        31          3          2        13   \n",
       "153           29         53        47          2          8        12   \n",
       "\n",
       "     Potassium  Phosphorous  Fertilizer Name  \n",
       "0            0            0                6  \n",
       "1            0           36                5  \n",
       "2            9           30                1  \n",
       "3            0           20                4  \n",
       "4            0            0                6  \n",
       "..         ...          ...              ...  \n",
       "149          0           22                4  \n",
       "150          0           36                5  \n",
       "151          0           39                5  \n",
       "152          0           38                5  \n",
       "153          0           36                5  \n",
       "\n",
       "[154 rows x 9 columns]"
      ]
     },
     "execution_count": 15,
     "metadata": {},
     "output_type": "execute_result"
    }
   ],
   "source": [
    "data_upsampled = X_upsampled.join(y_upsampled)\n",
    "data_upsampled\n"
   ]
  },
  {
   "cell_type": "code",
   "execution_count": 16,
   "metadata": {},
   "outputs": [],
   "source": [
    "data_upsampled.to_csv(r'D:\\Research Internship\\Programs\\Datasets\\up_dataset.csv')"
   ]
  },
  {
   "attachments": {},
   "cell_type": "markdown",
   "metadata": {},
   "source": [
    "# Test Train Split"
   ]
  },
  {
   "attachments": {},
   "cell_type": "markdown",
   "metadata": {},
   "source": [
    "SPLIT 1 = 8:2\n",
    "SPLIT 2 = 7:3"
   ]
  },
  {
   "cell_type": "code",
   "execution_count": 17,
   "metadata": {},
   "outputs": [
    {
     "name": "stdout",
     "output_type": "stream",
     "text": [
      "Train Data: (123, 8), (123,)\n",
      "Test Data: (31, 8), (31,)\n"
     ]
    }
   ],
   "source": [
    "X1_train, X1_test, y1_train, y1_test = train_test_split(X_upsampled, y_upsampled, test_size = 0.2, random_state = 42)\n",
    "print(f\"Train Data: {X1_train.shape}, {y1_train.shape}\")\n",
    "print(f\"Test Data: {X1_test.shape}, {y1_test.shape}\")"
   ]
  },
  {
   "cell_type": "code",
   "execution_count": 18,
   "metadata": {},
   "outputs": [
    {
     "name": "stdout",
     "output_type": "stream",
     "text": [
      "Train Data: (107, 8), (107,)\n",
      "Test Data: (47, 8), (47,)\n"
     ]
    }
   ],
   "source": [
    "X2_train, X2_test, y2_train, y2_test = train_test_split(X_upsampled, y_upsampled, test_size = 0.3, random_state = 42)\n",
    "print(f\"Train Data: {X2_train.shape}, {y2_train.shape}\")\n",
    "print(f\"Test Data: {X2_test.shape}, {y2_test.shape}\")"
   ]
  },
  {
   "cell_type": "code",
   "execution_count": 19,
   "metadata": {},
   "outputs": [],
   "source": [
    "from sklearn.metrics import accuracy_score\n",
    "from sklearn.metrics import classification_report, confusion_matrix\n",
    "\n",
    "\n",
    "def evaulate(y_true,y_pred):\n",
    "    score=accuracy_score(y_true,y_pred)\n",
    "    conmat=confusion_matrix(y_true,y_pred)\n",
    "    classrep=classification_report(y_true,y_pred)\n",
    "    print(f\"Accuracy Score:\",score, \"\\n Confusion Matrix:\\n\" ,conmat, \"\\n Classification Report:\\n\",classrep)"
   ]
  },
  {
   "attachments": {},
   "cell_type": "markdown",
   "metadata": {},
   "source": [
    "# Feature Scaling"
   ]
  },
  {
   "cell_type": "code",
   "execution_count": 20,
   "metadata": {},
   "outputs": [],
   "source": [
    "from sklearn.preprocessing import StandardScaler\n",
    "sc = StandardScaler()\n",
    "X1_train_scaled = sc.fit_transform(X1_train)\n",
    "X1_test_scaled = sc.transform(X1_test)"
   ]
  },
  {
   "cell_type": "code",
   "execution_count": 21,
   "metadata": {},
   "outputs": [
    {
     "data": {
      "text/plain": [
       "array([[ 1.48442831e+00,  1.27249296e+00,  4.86787568e-01,\n",
       "         7.70519389e-01,  3.11866781e-01, -9.69251849e-01,\n",
       "         3.53661758e-01,  8.45171662e-01],\n",
       "       [-2.70342905e-02,  1.93067897e-01, -5.82406555e-01,\n",
       "         1.52871047e+00, -3.61108904e-01, -5.93169901e-01,\n",
       "        -7.87332242e-01, -3.43868863e-01],\n",
       "       [-2.70342905e-02,  1.93067897e-01,  1.84758009e+00,\n",
       "         7.70519389e-01, -1.37057243e+00, -6.87190388e-01,\n",
       "         4.96286008e-01,  9.30103129e-01],\n",
       "       [-1.53849690e+00, -1.60597387e+00,  1.16718383e+00,\n",
       "         1.23283102e-02,  6.48354624e-01, -4.99149414e-01,\n",
       "         9.24158759e-01, -2.58937397e-01],\n",
       "       [-1.23620437e+00, -1.24616552e+00, -9.64092262e-02,\n",
       "         7.70519389e-01, -6.97596747e-01,  6.29096429e-01,\n",
       "        -7.87332242e-01,  8.07884677e-02],\n",
       "       [ 1.18213579e+00,  1.09258878e+00,  9.72784897e-01,\n",
       "         1.23283102e-02,  1.65781815e+00,  2.03940373e+00,\n",
       "        -7.87332242e-01, -1.53290939e+00],\n",
       "       [ 1.48442831e+00,  1.63230131e+00, -1.06840388e+00,\n",
       "         7.70519389e-01,  1.32133031e+00, -4.99149414e-01,\n",
       "        -7.87332242e-01,  1.60955486e+00],\n",
       "       [ 1.18213579e+00,  1.27249296e+00,  1.95189171e-01,\n",
       "        -7.45862769e-01,  6.48354624e-01, -7.81210875e-01,\n",
       "         1.77990426e+00,  1.65719934e-01],\n",
       "       [-2.70342905e-02,  1.93067897e-01, -3.88007623e-01,\n",
       "         1.52871047e+00, -3.61108904e-01,  2.32146519e+00,\n",
       "        -7.87332242e-01, -1.53290939e+00],\n",
       "       [ 2.75258231e-01,  5.52876250e-01,  3.89588103e-01,\n",
       "         1.52871047e+00, -6.97596747e-01, -2.17087954e-01,\n",
       "         1.35203151e+00, -5.13731795e-01],\n",
       "       [-9.33911854e-01, -1.06626134e+00,  1.95189171e-01,\n",
       "         7.70519389e-01, -1.70706027e+00, -1.06327234e+00,\n",
       "         1.63728001e+00, -2.58937397e-01],\n",
       "       [ 5.77550752e-01,  7.32780426e-01,  2.92388637e-01,\n",
       "         1.23283102e-02,  6.48354624e-01,  5.35075942e-01,\n",
       "        -7.87332242e-01,  8.07884677e-02],\n",
       "       [ 2.75258231e-01,  5.52876250e-01,  7.90239559e-04,\n",
       "         1.52871047e+00, -1.70706027e+00,  4.41055455e-01,\n",
       "        -7.87332242e-01,  8.45171662e-01],\n",
       "       [ 5.77550752e-01,  5.52876250e-01, -1.36000228e+00,\n",
       "         1.23283102e-02,  9.84842466e-01,  2.03940373e+00,\n",
       "        -7.87332242e-01, -1.53290939e+00],\n",
       "       [-1.53849690e+00, -1.60597387e+00, -3.88007623e-01,\n",
       "        -7.45862769e-01,  6.48354624e-01, -9.69251849e-01,\n",
       "         1.92252851e+00, -1.74005931e-01],\n",
       "       [ 1.48442831e+00,  1.45239713e+00,  4.86787568e-01,\n",
       "         1.23283102e-02,  1.32133031e+00, -4.99149414e-01,\n",
       "         1.77990426e+00, -4.14299835e-03],\n",
       "       [-2.70342905e-02,  1.93067897e-01,  1.36158276e+00,\n",
       "         1.23283102e-02,  9.84842466e-01, -5.93169901e-01,\n",
       "         2.11037508e-01,  1.18489753e+00],\n",
       "       [-6.31619333e-01, -8.86357162e-01,  1.95189171e-01,\n",
       "        -7.45862769e-01,  3.11866781e-01,  1.75734227e+00,\n",
       "        -7.87332242e-01, -1.53290939e+00],\n",
       "       [ 1.18213579e+00,  1.09258878e+00, -5.82406555e-01,\n",
       "        -7.45862769e-01,  3.11866781e-01,  2.13342422e+00,\n",
       "        -7.87332242e-01, -1.53290939e+00],\n",
       "       [ 1.78672084e+00,  1.63230131e+00, -1.06840388e+00,\n",
       "        -1.50405385e+00, -2.46210617e-02, -3.11108440e-01,\n",
       "        -7.87332242e-01, -3.43868863e-01],\n",
       "       [-2.70342905e-02,  1.93067897e-01, -1.65160068e+00,\n",
       "         7.70519389e-01,  1.32133031e+00, -1.15729282e+00,\n",
       "         1.63728001e+00, -8.90744644e-02],\n",
       "       [-1.53849690e+00, -1.60597387e+00,  3.89588103e-01,\n",
       "         1.23283102e-02, -2.46210617e-02, -4.99149414e-01,\n",
       "         7.81534508e-01, -3.43868863e-01],\n",
       "       [ 8.79843273e-01,  9.12684603e-01, -9.71204418e-01,\n",
       "        -7.45862769e-01,  6.48354624e-01,  2.03940373e+00,\n",
       "        -7.87332242e-01, -1.53290939e+00],\n",
       "       [-3.29326812e-01,  1.31637202e-02,  4.86787568e-01,\n",
       "         1.23283102e-02,  1.32133031e+00, -4.05128927e-01,\n",
       "        -7.87332242e-01, -7.68526193e-01],\n",
       "       [-9.33911854e-01, -8.86357162e-01, -1.55440121e+00,\n",
       "        -7.45862769e-01,  6.48354624e-01, -3.11108440e-01,\n",
       "        -7.87332242e-01,  1.86434926e+00],\n",
       "       [-6.31619333e-01, -8.86357162e-01, -2.90808158e-01,\n",
       "        -7.45862769e-01,  3.11866781e-01,  1.85136276e+00,\n",
       "        -7.87332242e-01, -1.53290939e+00],\n",
       "       [ 1.78672084e+00,  1.93067897e-01, -9.64092262e-02,\n",
       "         1.52871047e+00, -3.61108904e-01, -1.23067467e-01,\n",
       "        -7.87332242e-01,  1.94928072e+00],\n",
       "       [-3.29326812e-01, -1.66740456e-01,  2.04197902e+00,\n",
       "        -1.50405385e+00, -1.37057243e+00, -2.17087954e-01,\n",
       "        -7.87332242e-01,  1.43969193e+00],\n",
       "       [-1.23620437e+00, -1.24616552e+00, -5.82406555e-01,\n",
       "         1.52871047e+00, -6.97596747e-01,  1.94538325e+00,\n",
       "        -7.87332242e-01, -1.53290939e+00],\n",
       "       [-3.29326812e-01, -1.66740456e-01, -1.93608692e-01,\n",
       "        -7.45862769e-01,  3.11866781e-01, -6.87190388e-01,\n",
       "         6.38910258e-01,  3.35582866e-01],\n",
       "       [-3.29326812e-01, -7.06452986e-01,  3.89588103e-01,\n",
       "         1.23283102e-02,  1.32133031e+00, -4.05128927e-01,\n",
       "        -7.87332242e-01,  1.52462339e+00],\n",
       "       [-2.70342905e-02,  1.93067897e-01,  1.75038062e+00,\n",
       "         1.23283102e-02, -1.37057243e+00, -7.81210875e-01,\n",
       "         4.96286008e-01,  9.30103129e-01],\n",
       "       [ 8.79843273e-01,  9.12684603e-01, -4.85207089e-01,\n",
       "        -7.45862769e-01,  3.11866781e-01, -3.11108440e-01,\n",
       "        -7.87332242e-01, -6.83594727e-01],\n",
       "       [-9.33911854e-01, -1.06626134e+00, -8.74004952e-01,\n",
       "        -1.50405385e+00, -2.46210617e-02,  1.94538325e+00,\n",
       "        -7.87332242e-01, -1.53290939e+00],\n",
       "       [ 1.48442831e+00,  1.45239713e+00, -1.93608692e-01,\n",
       "         1.52871047e+00, -1.70706027e+00, -5.93169901e-01,\n",
       "        -7.87332242e-01,  1.43969193e+00],\n",
       "       [-2.70342905e-02,  1.93067897e-01,  2.92388637e-01,\n",
       "         1.52871047e+00, -6.97596747e-01,  5.35075942e-01,\n",
       "        -7.87332242e-01,  2.50651400e-01],\n",
       "       [ 2.08901336e+00,  1.99210966e+00, -1.16560335e+00,\n",
       "        -1.50405385e+00, -2.46210617e-02, -4.05128927e-01,\n",
       "        -7.87332242e-01,  1.77941779e+00],\n",
       "       [-9.33911854e-01, -8.86357162e-01, -1.36000228e+00,\n",
       "        -7.45862769e-01,  6.48354624e-01, -3.11108440e-01,\n",
       "        -7.87332242e-01, -4.28800329e-01],\n",
       "       [ 8.79843273e-01,  9.12684603e-01,  1.65318116e+00,\n",
       "        -1.50405385e+00, -1.37057243e+00, -8.75231362e-01,\n",
       "         3.53661758e-01,  1.01503459e+00],\n",
       "       [-1.23620437e+00, -1.24616552e+00,  7.90239559e-04,\n",
       "         1.52871047e+00, -6.97596747e-01,  6.29096429e-01,\n",
       "        -7.87332242e-01,  1.65719934e-01],\n",
       "       [-6.31619333e-01, -8.86357162e-01, -6.79606021e-01,\n",
       "        -1.50405385e+00, -3.61108904e-01,  1.85136276e+00,\n",
       "        -7.87332242e-01, -1.53290939e+00],\n",
       "       [ 2.75258231e-01,  1.93067897e-01, -2.90808158e-01,\n",
       "        -7.45862769e-01,  3.11866781e-01, -9.69251849e-01,\n",
       "         1.63728001e+00,  1.65719934e-01],\n",
       "       [-3.29326812e-01, -1.66740456e-01, -9.71204418e-01,\n",
       "         1.52871047e+00, -3.61108904e-01, -1.23067467e-01,\n",
       "        -7.87332242e-01,  1.60955486e+00],\n",
       "       [ 1.18213579e+00,  1.09258878e+00,  1.84758009e+00,\n",
       "         7.70519389e-01, -1.37057243e+00, -2.17087954e-01,\n",
       "        -7.87332242e-01,  1.69448632e+00],\n",
       "       [-1.53849690e+00, -1.42606969e+00, -4.85207089e-01,\n",
       "        -7.45862769e-01, -2.46210617e-02,  4.41055455e-01,\n",
       "        -7.87332242e-01,  3.35582866e-01],\n",
       "       [-6.31619333e-01, -5.26548809e-01, -3.88007623e-01,\n",
       "         1.52871047e+00, -1.37057243e+00, -4.05128927e-01,\n",
       "         9.24158759e-01, -5.13731795e-01],\n",
       "       [-3.29326812e-01, -1.66740456e-01, -9.64092262e-02,\n",
       "        -7.45862769e-01,  3.11866781e-01,  7.23116916e-01,\n",
       "        -7.87332242e-01, -4.14299835e-03],\n",
       "       [-1.23620437e+00, -1.24616552e+00,  9.72784897e-01,\n",
       "        -7.45862769e-01,  9.84842466e-01, -5.93169901e-01,\n",
       "         1.06678301e+00, -3.43868863e-01],\n",
       "       [-2.70342905e-02,  3.72972073e-01,  1.95189171e-01,\n",
       "         1.52871047e+00, -1.03408459e+00, -3.11108440e-01,\n",
       "         1.20940726e+00, -5.13731795e-01],\n",
       "       [-9.33911854e-01, -1.06626134e+00, -9.71204418e-01,\n",
       "        -1.50405385e+00, -2.46210617e-02,  2.41548568e+00,\n",
       "        -7.87332242e-01, -1.53290939e+00],\n",
       "       [ 1.78672084e+00,  1.63230131e+00, -5.82406555e-01,\n",
       "         1.52871047e+00, -1.70706027e+00, -8.75231362e-01,\n",
       "         4.96286008e-01,  1.01503459e+00],\n",
       "       [-3.29326812e-01, -1.66740456e-01,  1.26438329e+00,\n",
       "        -1.50405385e+00,  9.84842466e-01, -4.05128927e-01,\n",
       "        -7.87332242e-01, -6.83594727e-01],\n",
       "       [-2.70342905e-02, -1.66740456e-01,  1.95189171e-01,\n",
       "         1.23283102e-02, -1.03408459e+00, -1.06327234e+00,\n",
       "         1.77990426e+00, -8.90744644e-02],\n",
       "       [ 1.18213579e+00,  1.09258878e+00,  1.94477955e+00,\n",
       "        -1.50405385e+00, -1.37057243e+00,  7.23116916e-01,\n",
       "        -7.87332242e-01,  1.65719934e-01],\n",
       "       [ 1.48442831e+00,  1.45239713e+00, -1.06840388e+00,\n",
       "        -1.50405385e+00, -3.61108904e-01, -4.05128927e-01,\n",
       "        -7.87332242e-01, -3.43868863e-01],\n",
       "       [-2.70342905e-02,  1.93067897e-01, -1.74880014e+00,\n",
       "        -1.50405385e+00, -2.46210617e-02, -7.81210875e-01,\n",
       "         4.96286008e-01,  1.01503459e+00],\n",
       "       [-2.70342905e-02,  1.93067897e-01,  2.92388637e-01,\n",
       "         1.52871047e+00, -1.70706027e+00, -4.05128927e-01,\n",
       "        -7.87332242e-01,  2.03421219e+00],\n",
       "       [-1.23620437e+00, -1.24616552e+00, -8.74004952e-01,\n",
       "         1.52871047e+00, -1.70706027e+00, -4.05128927e-01,\n",
       "         6.38910258e-01, -4.28800329e-01],\n",
       "       [-1.23620437e+00, -1.24616552e+00, -9.71204418e-01,\n",
       "        -1.50405385e+00,  3.11866781e-01, -3.11108440e-01,\n",
       "        -7.87332242e-01, -6.83594727e-01],\n",
       "       [-1.23620437e+00, -1.06626134e+00, -8.74004952e-01,\n",
       "        -7.45862769e-01,  6.48354624e-01, -1.06327234e+00,\n",
       "         1.77990426e+00, -1.74005931e-01],\n",
       "       [ 8.79843273e-01,  9.12684603e-01,  6.81186500e-01,\n",
       "         1.52871047e+00, -6.97596747e-01, -1.06327234e+00,\n",
       "         4.96286008e-01,  9.30103129e-01],\n",
       "       [-6.31619333e-01, -8.86357162e-01, -8.74004952e-01,\n",
       "        -1.50405385e+00, -3.61108904e-01,  2.32146519e+00,\n",
       "        -7.87332242e-01, -1.53290939e+00],\n",
       "       [-6.31619333e-01, -8.86357162e-01, -9.64092262e-02,\n",
       "        -7.45862769e-01,  3.11866781e-01, -5.93169901e-01,\n",
       "         3.53661758e-01,  9.30103129e-01],\n",
       "       [-9.33911854e-01, -1.06626134e+00,  1.45878223e+00,\n",
       "         1.23283102e-02,  9.84842466e-01, -5.93169901e-01,\n",
       "        -7.87332242e-01, -2.58937397e-01],\n",
       "       [-1.23620437e+00, -1.24616552e+00,  3.89588103e-01,\n",
       "         1.23283102e-02,  1.65781815e+00,  6.29096429e-01,\n",
       "        -7.87332242e-01,  8.07884677e-02],\n",
       "       [ 5.77550752e-01,  7.32780426e-01,  1.16718383e+00,\n",
       "         1.23283102e-02, -2.46210617e-02, -4.99149414e-01,\n",
       "         1.06678301e+00, -4.28800329e-01],\n",
       "       [ 8.79843273e-01,  9.12684603e-01,  5.83987034e-01,\n",
       "         1.23283102e-02,  1.65781815e+00,  2.32146519e+00,\n",
       "        -7.87332242e-01, -1.53290939e+00],\n",
       "       [ 1.18213579e+00,  1.09258878e+00,  1.55598169e+00,\n",
       "        -1.50405385e+00,  9.84842466e-01,  1.75734227e+00,\n",
       "        -7.87332242e-01, -1.53290939e+00],\n",
       "       [-1.23620437e+00, -1.24616552e+00, -4.85207089e-01,\n",
       "        -7.45862769e-01,  6.48354624e-01,  4.41055455e-01,\n",
       "        -7.87332242e-01,  4.20514332e-01],\n",
       "       [-1.53849690e+00, -1.42606969e+00, -5.82406555e-01,\n",
       "        -7.45862769e-01,  6.48354624e-01, -1.06327234e+00,\n",
       "         1.77990426e+00, -1.74005931e-01],\n",
       "       [ 1.18213579e+00,  1.09258878e+00,  9.79897053e-02,\n",
       "        -7.45862769e-01,  3.11866781e-01, -9.69251849e-01,\n",
       "         1.92252851e+00,  2.50651400e-01],\n",
       "       [-1.23620437e+00, -1.24616552e+00,  1.45878223e+00,\n",
       "         1.23283102e-02,  9.84842466e-01, -4.99149414e-01,\n",
       "        -7.87332242e-01, -7.68526193e-01],\n",
       "       [-3.29326812e-01,  1.31637202e-02, -6.79606021e-01,\n",
       "         7.70519389e-01, -3.61108904e-01, -5.93169901e-01,\n",
       "        -7.87332242e-01, -4.28800329e-01],\n",
       "       [-6.31619333e-01, -5.26548809e-01, -1.06840388e+00,\n",
       "         1.23283102e-02, -2.46210617e-02, -5.93169901e-01,\n",
       "        -7.87332242e-01, -3.43868863e-01],\n",
       "       [-3.29326812e-01, -1.66740456e-01,  1.65318116e+00,\n",
       "         1.23283102e-02, -1.37057243e+00, -4.99149414e-01,\n",
       "        -7.87332242e-01,  1.69448632e+00],\n",
       "       [-2.70342905e-02,  1.93067897e-01, -1.93608692e-01,\n",
       "         1.52871047e+00, -3.61108904e-01,  4.41055455e-01,\n",
       "        -7.87332242e-01, -4.14299835e-03],\n",
       "       [ 5.77550752e-01,  5.52876250e-01, -2.90808158e-01,\n",
       "        -7.45862769e-01,  3.11866781e-01,  7.23116916e-01,\n",
       "        -7.87332242e-01,  3.35582866e-01],\n",
       "       [ 5.77550752e-01,  5.52876250e-01, -9.71204418e-01,\n",
       "         7.70519389e-01, -1.03408459e+00, -1.23067467e-01,\n",
       "        -7.87332242e-01,  1.60955486e+00],\n",
       "       [ 8.79843273e-01,  9.12684603e-01,  9.72784897e-01,\n",
       "         1.23283102e-02,  3.11866781e-01, -4.99149414e-01,\n",
       "         1.06678301e+00, -5.13731795e-01],\n",
       "       [ 5.77550752e-01,  5.52876250e-01, -9.71204418e-01,\n",
       "         7.70519389e-01,  1.32133031e+00,  5.35075942e-01,\n",
       "        -7.87332242e-01,  1.65719934e-01],\n",
       "       [-1.53849690e+00, -1.60597387e+00, -4.85207089e-01,\n",
       "         1.52871047e+00, -1.70706027e+00,  4.41055455e-01,\n",
       "        -7.87332242e-01,  8.07884677e-02],\n",
       "       [-1.53849690e+00, -1.60597387e+00, -1.74880014e+00,\n",
       "         7.70519389e-01, -1.03408459e+00, -1.23067467e-01,\n",
       "         1.20940726e+00, -5.98663261e-01],\n",
       "       [ 1.18213579e+00,  1.09258878e+00,  3.89588103e-01,\n",
       "         1.23283102e-02,  1.65781815e+00,  6.29096429e-01,\n",
       "        -7.87332242e-01,  8.07884677e-02],\n",
       "       [-1.53849690e+00, -1.60597387e+00, -1.74880014e+00,\n",
       "         1.23283102e-02, -1.03408459e+00, -2.17087954e-01,\n",
       "         1.06678301e+00, -5.98663261e-01],\n",
       "       [-1.53849690e+00, -1.60597387e+00,  1.94477955e+00,\n",
       "         7.70519389e-01, -1.37057243e+00, -6.87190388e-01,\n",
       "        -7.87332242e-01, -6.83594727e-01],\n",
       "       [-3.29326812e-01,  1.31637202e-02,  1.16718383e+00,\n",
       "         7.70519389e-01, -1.70706027e+00, -4.99149414e-01,\n",
       "         7.81534508e-01, -3.43868863e-01],\n",
       "       [ 5.77550752e-01,  7.32780426e-01, -4.85207089e-01,\n",
       "        -7.45862769e-01,  3.11866781e-01, -1.06327234e+00,\n",
       "         1.77990426e+00,  8.07884677e-02],\n",
       "       [ 1.18213579e+00,  1.09258878e+00,  1.75038062e+00,\n",
       "        -1.50405385e+00, -1.37057243e+00, -8.75231362e-01,\n",
       "         4.96286008e-01,  1.01503459e+00],\n",
       "       [-6.31619333e-01, -8.86357162e-01,  2.92388637e-01,\n",
       "         1.52871047e+00, -1.70706027e+00, -1.06327234e+00,\n",
       "         1.77990426e+00, -2.58937397e-01],\n",
       "       [ 8.79843273e-01,  9.12684603e-01,  1.65318116e+00,\n",
       "        -1.50405385e+00, -1.37057243e+00, -8.75231362e-01,\n",
       "         3.53661758e-01,  1.01503459e+00],\n",
       "       [ 2.75258231e-01,  5.52876250e-01,  1.84758009e+00,\n",
       "         7.70519389e-01, -1.37057243e+00, -4.99149414e-01,\n",
       "         9.24158759e-01, -2.58937397e-01],\n",
       "       [-3.29326812e-01, -1.66740456e-01, -1.26280282e+00,\n",
       "         1.23283102e-02,  1.32133031e+00, -4.05128927e-01,\n",
       "         1.63728001e+00, -1.74005931e-01],\n",
       "       [ 1.18213579e+00,  1.09258878e+00, -1.26280282e+00,\n",
       "         7.70519389e-01,  1.32133031e+00,  6.29096429e-01,\n",
       "        -7.87332242e-01,  2.50651400e-01],\n",
       "       [ 2.75258231e-01,  5.52876250e-01,  1.55598169e+00,\n",
       "         7.70519389e-01, -1.37057243e+00, -4.99149414e-01,\n",
       "         9.24158759e-01, -3.43868863e-01],\n",
       "       [-1.23620437e+00, -1.24616552e+00, -1.16560335e+00,\n",
       "        -1.50405385e+00, -2.46210617e-02, -4.05128927e-01,\n",
       "        -7.87332242e-01, -8.53457659e-01],\n",
       "       [ 2.75258231e-01,  5.52876250e-01,  1.55598169e+00,\n",
       "         1.23283102e-02, -1.03408459e+00, -4.99149414e-01,\n",
       "         9.24158759e-01, -3.43868863e-01],\n",
       "       [-2.70342905e-02,  1.93067897e-01,  4.86787568e-01,\n",
       "         1.23283102e-02,  1.65781815e+00, -3.11108440e-01,\n",
       "        -7.87332242e-01, -7.68526193e-01],\n",
       "       [ 8.79843273e-01,  1.31637202e-02, -3.88007623e-01,\n",
       "         1.52871047e+00, -3.61108904e-01, -1.23067467e-01,\n",
       "        -7.87332242e-01,  1.77941779e+00],\n",
       "       [-1.53849690e+00, -1.60597387e+00,  1.16718383e+00,\n",
       "         1.23283102e-02,  9.84842466e-01, -4.99149414e-01,\n",
       "         1.06678301e+00, -2.58937397e-01],\n",
       "       [-2.70342905e-02,  1.93067897e-01, -1.45720175e+00,\n",
       "         7.70519389e-01, -1.03408459e+00,  2.32146519e+00,\n",
       "        -7.87332242e-01, -1.53290939e+00],\n",
       "       [ 1.78672084e+00,  1.63230131e+00,  5.83987034e-01,\n",
       "         1.23283102e-02,  1.65781815e+00, -4.05128927e-01,\n",
       "         1.77990426e+00,  8.07884677e-02],\n",
       "       [ 1.18213579e+00,  1.09258878e+00,  8.75585431e-01,\n",
       "         1.23283102e-02,  9.84842466e-01, -4.05128927e-01,\n",
       "         1.20940726e+00, -5.13731795e-01],\n",
       "       [-3.29326812e-01, -1.66740456e-01, -6.79606021e-01,\n",
       "         1.52871047e+00, -3.61108904e-01, -7.81210875e-01,\n",
       "        -7.87332242e-01, -2.58937397e-01],\n",
       "       [ 8.79843273e-01,  9.12684603e-01,  1.95189171e-01,\n",
       "        -7.45862769e-01,  1.32133031e+00,  6.29096429e-01,\n",
       "        -7.87332242e-01,  8.07884677e-02],\n",
       "       [-2.70342905e-02,  1.93067897e-01,  4.86787568e-01,\n",
       "        -1.50405385e+00,  9.84842466e-01, -5.93169901e-01,\n",
       "         1.06678301e+00, -3.43868863e-01],\n",
       "       [ 2.08901336e+00,  1.99210966e+00, -6.79606021e-01,\n",
       "        -7.45862769e-01,  3.11866781e-01, -4.05128927e-01,\n",
       "        -7.87332242e-01,  1.94928072e+00],\n",
       "       [-9.33911854e-01, -8.86357162e-01, -1.36000228e+00,\n",
       "        -7.45862769e-01,  3.11866781e-01, -4.05128927e-01,\n",
       "        -7.87332242e-01, -4.28800329e-01],\n",
       "       [-3.29326812e-01, -1.24616552e+00,  9.79897053e-02,\n",
       "         1.23283102e-02,  9.84842466e-01, -4.05128927e-01,\n",
       "        -7.87332242e-01,  1.52462339e+00],\n",
       "       [-6.31619333e-01, -8.86357162e-01, -5.82406555e-01,\n",
       "        -7.45862769e-01,  6.48354624e-01,  2.22744471e+00,\n",
       "        -7.87332242e-01, -1.53290939e+00],\n",
       "       [ 8.79843273e-01,  9.12684603e-01,  7.78385965e-01,\n",
       "        -7.45862769e-01,  9.84842466e-01, -4.99149414e-01,\n",
       "         1.06678301e+00, -5.13731795e-01],\n",
       "       [-9.33911854e-01, -7.06452986e-01, -1.06840388e+00,\n",
       "         1.23283102e-02,  9.84842466e-01, -5.93169901e-01,\n",
       "         1.63728001e+00, -1.74005931e-01],\n",
       "       [ 8.79843273e-01,  9.12684603e-01,  7.90239559e-04,\n",
       "        -7.45862769e-01,  3.11866781e-01, -9.69251849e-01,\n",
       "         1.92252851e+00,  1.65719934e-01],\n",
       "       [-3.29326812e-01,  1.31637202e-02,  1.26438329e+00,\n",
       "         1.23283102e-02,  9.84842466e-01, -6.87190388e-01,\n",
       "         2.11037508e-01,  1.18489753e+00],\n",
       "       [-9.33911854e-01, -1.06626134e+00, -1.36000228e+00,\n",
       "        -1.50405385e+00, -3.61108904e-01,  1.75734227e+00,\n",
       "        -7.87332242e-01, -1.53290939e+00],\n",
       "       [ 8.79843273e-01,  9.12684603e-01, -1.26280282e+00,\n",
       "         7.70519389e-01, -1.03408459e+00, -3.11108440e-01,\n",
       "        -7.87332242e-01,  1.77941779e+00],\n",
       "       [-3.29326812e-01, -1.66740456e-01,  1.16718383e+00,\n",
       "         1.23283102e-02,  3.11866781e-01, -7.81210875e-01,\n",
       "         3.53661758e-01,  1.18489753e+00],\n",
       "       [-3.29326812e-01, -1.06626134e+00,  2.92388637e-01,\n",
       "         1.23283102e-02,  9.84842466e-01, -4.05128927e-01,\n",
       "        -7.87332242e-01,  1.52462339e+00],\n",
       "       [-2.70342905e-02,  1.93067897e-01,  7.90239559e-04,\n",
       "         1.52871047e+00, -3.61108904e-01, -5.93169901e-01,\n",
       "        -7.87332242e-01, -7.68526193e-01],\n",
       "       [ 2.75258231e-01,  5.52876250e-01, -1.16560335e+00,\n",
       "         7.70519389e-01,  1.32133031e+00,  2.13342422e+00,\n",
       "        -7.87332242e-01, -1.53290939e+00],\n",
       "       [ 1.48442831e+00,  1.45239713e+00,  4.86787568e-01,\n",
       "        -7.45862769e-01,  1.32133031e+00, -4.99149414e-01,\n",
       "         1.63728001e+00,  8.07884677e-02],\n",
       "       [-1.23620437e+00, -1.24616552e+00, -1.26280282e+00,\n",
       "         7.70519389e-01, -1.03408459e+00, -2.17087954e-01,\n",
       "        -7.87332242e-01,  1.94928072e+00],\n",
       "       [ 1.78672084e+00,  1.63230131e+00, -2.90808158e-01,\n",
       "         7.70519389e-01, -1.03408459e+00,  2.32146519e+00,\n",
       "        -7.87332242e-01, -1.53290939e+00],\n",
       "       [-1.53849690e+00, -1.60597387e+00, -4.85207089e-01,\n",
       "        -7.45862769e-01,  6.48354624e-01, -9.69251849e-01,\n",
       "         1.77990426e+00, -1.74005931e-01]])"
      ]
     },
     "execution_count": 21,
     "metadata": {},
     "output_type": "execute_result"
    }
   ],
   "source": [
    "X1_train_scaled\n"
   ]
  },
  {
   "cell_type": "code",
   "execution_count": 22,
   "metadata": {},
   "outputs": [],
   "source": [
    "X2_train_scaled = sc.fit_transform(X2_train)\n",
    "X2_test_scaled = sc.transform(X2_test)"
   ]
  },
  {
   "attachments": {},
   "cell_type": "markdown",
   "metadata": {},
   "source": [
    "For 8:2 Ratio"
   ]
  },
  {
   "attachments": {},
   "cell_type": "markdown",
   "metadata": {},
   "source": [
    "Scaled data"
   ]
  },
  {
   "cell_type": "code",
   "execution_count": 23,
   "metadata": {},
   "outputs": [
    {
     "data": {
      "text/html": [
       "<style>#sk-container-id-1 {color: black;background-color: white;}#sk-container-id-1 pre{padding: 0;}#sk-container-id-1 div.sk-toggleable {background-color: white;}#sk-container-id-1 label.sk-toggleable__label {cursor: pointer;display: block;width: 100%;margin-bottom: 0;padding: 0.3em;box-sizing: border-box;text-align: center;}#sk-container-id-1 label.sk-toggleable__label-arrow:before {content: \"▸\";float: left;margin-right: 0.25em;color: #696969;}#sk-container-id-1 label.sk-toggleable__label-arrow:hover:before {color: black;}#sk-container-id-1 div.sk-estimator:hover label.sk-toggleable__label-arrow:before {color: black;}#sk-container-id-1 div.sk-toggleable__content {max-height: 0;max-width: 0;overflow: hidden;text-align: left;background-color: #f0f8ff;}#sk-container-id-1 div.sk-toggleable__content pre {margin: 0.2em;color: black;border-radius: 0.25em;background-color: #f0f8ff;}#sk-container-id-1 input.sk-toggleable__control:checked~div.sk-toggleable__content {max-height: 200px;max-width: 100%;overflow: auto;}#sk-container-id-1 input.sk-toggleable__control:checked~label.sk-toggleable__label-arrow:before {content: \"▾\";}#sk-container-id-1 div.sk-estimator input.sk-toggleable__control:checked~label.sk-toggleable__label {background-color: #d4ebff;}#sk-container-id-1 div.sk-label input.sk-toggleable__control:checked~label.sk-toggleable__label {background-color: #d4ebff;}#sk-container-id-1 input.sk-hidden--visually {border: 0;clip: rect(1px 1px 1px 1px);clip: rect(1px, 1px, 1px, 1px);height: 1px;margin: -1px;overflow: hidden;padding: 0;position: absolute;width: 1px;}#sk-container-id-1 div.sk-estimator {font-family: monospace;background-color: #f0f8ff;border: 1px dotted black;border-radius: 0.25em;box-sizing: border-box;margin-bottom: 0.5em;}#sk-container-id-1 div.sk-estimator:hover {background-color: #d4ebff;}#sk-container-id-1 div.sk-parallel-item::after {content: \"\";width: 100%;border-bottom: 1px solid gray;flex-grow: 1;}#sk-container-id-1 div.sk-label:hover label.sk-toggleable__label {background-color: #d4ebff;}#sk-container-id-1 div.sk-serial::before {content: \"\";position: absolute;border-left: 1px solid gray;box-sizing: border-box;top: 0;bottom: 0;left: 50%;z-index: 0;}#sk-container-id-1 div.sk-serial {display: flex;flex-direction: column;align-items: center;background-color: white;padding-right: 0.2em;padding-left: 0.2em;position: relative;}#sk-container-id-1 div.sk-item {position: relative;z-index: 1;}#sk-container-id-1 div.sk-parallel {display: flex;align-items: stretch;justify-content: center;background-color: white;position: relative;}#sk-container-id-1 div.sk-item::before, #sk-container-id-1 div.sk-parallel-item::before {content: \"\";position: absolute;border-left: 1px solid gray;box-sizing: border-box;top: 0;bottom: 0;left: 50%;z-index: -1;}#sk-container-id-1 div.sk-parallel-item {display: flex;flex-direction: column;z-index: 1;position: relative;background-color: white;}#sk-container-id-1 div.sk-parallel-item:first-child::after {align-self: flex-end;width: 50%;}#sk-container-id-1 div.sk-parallel-item:last-child::after {align-self: flex-start;width: 50%;}#sk-container-id-1 div.sk-parallel-item:only-child::after {width: 0;}#sk-container-id-1 div.sk-dashed-wrapped {border: 1px dashed gray;margin: 0 0.4em 0.5em 0.4em;box-sizing: border-box;padding-bottom: 0.4em;background-color: white;}#sk-container-id-1 div.sk-label label {font-family: monospace;font-weight: bold;display: inline-block;line-height: 1.2em;}#sk-container-id-1 div.sk-label-container {text-align: center;}#sk-container-id-1 div.sk-container {/* jupyter's `normalize.less` sets `[hidden] { display: none; }` but bootstrap.min.css set `[hidden] { display: none !important; }` so we also need the `!important` here to be able to override the default hidden behavior on the sphinx rendered scikit-learn.org. See: https://github.com/scikit-learn/scikit-learn/issues/21755 */display: inline-block !important;position: relative;}#sk-container-id-1 div.sk-text-repr-fallback {display: none;}</style><div id=\"sk-container-id-1\" class=\"sk-top-container\"><div class=\"sk-text-repr-fallback\"><pre>RandomForestClassifier(random_state=42)</pre><b>In a Jupyter environment, please rerun this cell to show the HTML representation or trust the notebook. <br />On GitHub, the HTML representation is unable to render, please try loading this page with nbviewer.org.</b></div><div class=\"sk-container\" hidden><div class=\"sk-item\"><div class=\"sk-estimator sk-toggleable\"><input class=\"sk-toggleable__control sk-hidden--visually\" id=\"sk-estimator-id-1\" type=\"checkbox\" checked><label for=\"sk-estimator-id-1\" class=\"sk-toggleable__label sk-toggleable__label-arrow\">RandomForestClassifier</label><div class=\"sk-toggleable__content\"><pre>RandomForestClassifier(random_state=42)</pre></div></div></div></div></div>"
      ],
      "text/plain": [
       "RandomForestClassifier(random_state=42)"
      ]
     },
     "execution_count": 23,
     "metadata": {},
     "output_type": "execute_result"
    }
   ],
   "source": [
    "from sklearn.ensemble import RandomForestClassifier\n",
    "RFclassifier_scaled = RandomForestClassifier(n_estimators= 100, criterion = 'gini' , random_state= 42)\n",
    "RFclassifier_scaled.fit(X1_train_scaled, y1_train)"
   ]
  },
  {
   "cell_type": "code",
   "execution_count": 24,
   "metadata": {},
   "outputs": [],
   "source": [
    "y1_pred_scaled = RFclassifier_scaled.predict(X1_test_scaled)\n"
   ]
  },
  {
   "cell_type": "code",
   "execution_count": 25,
   "metadata": {},
   "outputs": [
    {
     "data": {
      "text/plain": [
       "0.96"
      ]
     },
     "execution_count": 25,
     "metadata": {},
     "output_type": "execute_result"
    }
   ],
   "source": [
    "from sklearn.model_selection import cross_val_score\n",
    "\n",
    "cross_val_score(RFclassifier_scaled,X, y, cv=5).mean()"
   ]
  },
  {
   "cell_type": "code",
   "execution_count": 26,
   "metadata": {},
   "outputs": [
    {
     "name": "stdout",
     "output_type": "stream",
     "text": [
      "              precision    recall  f1-score   support\n",
      "\n",
      "           0       1.00      1.00      1.00         4\n",
      "           1       1.00      1.00      1.00         8\n",
      "           2       1.00      1.00      1.00         3\n",
      "           3       1.00      1.00      1.00         4\n",
      "           4       1.00      1.00      1.00         5\n",
      "           5       1.00      1.00      1.00         4\n",
      "           6       1.00      1.00      1.00         3\n",
      "\n",
      "    accuracy                           1.00        31\n",
      "   macro avg       1.00      1.00      1.00        31\n",
      "weighted avg       1.00      1.00      1.00        31\n",
      "\n"
     ]
    },
    {
     "data": {
      "text/plain": [
       "1.0"
      ]
     },
     "execution_count": 26,
     "metadata": {},
     "output_type": "execute_result"
    }
   ],
   "source": [
    "print(classification_report(y1_test,y1_pred_scaled))\n",
    "accuracy_score(y1_test,y1_pred_scaled)"
   ]
  },
  {
   "attachments": {},
   "cell_type": "markdown",
   "metadata": {},
   "source": [
    "Unscaled data"
   ]
  },
  {
   "cell_type": "code",
   "execution_count": 27,
   "metadata": {},
   "outputs": [
    {
     "data": {
      "text/html": [
       "<style>#sk-container-id-2 {color: black;background-color: white;}#sk-container-id-2 pre{padding: 0;}#sk-container-id-2 div.sk-toggleable {background-color: white;}#sk-container-id-2 label.sk-toggleable__label {cursor: pointer;display: block;width: 100%;margin-bottom: 0;padding: 0.3em;box-sizing: border-box;text-align: center;}#sk-container-id-2 label.sk-toggleable__label-arrow:before {content: \"▸\";float: left;margin-right: 0.25em;color: #696969;}#sk-container-id-2 label.sk-toggleable__label-arrow:hover:before {color: black;}#sk-container-id-2 div.sk-estimator:hover label.sk-toggleable__label-arrow:before {color: black;}#sk-container-id-2 div.sk-toggleable__content {max-height: 0;max-width: 0;overflow: hidden;text-align: left;background-color: #f0f8ff;}#sk-container-id-2 div.sk-toggleable__content pre {margin: 0.2em;color: black;border-radius: 0.25em;background-color: #f0f8ff;}#sk-container-id-2 input.sk-toggleable__control:checked~div.sk-toggleable__content {max-height: 200px;max-width: 100%;overflow: auto;}#sk-container-id-2 input.sk-toggleable__control:checked~label.sk-toggleable__label-arrow:before {content: \"▾\";}#sk-container-id-2 div.sk-estimator input.sk-toggleable__control:checked~label.sk-toggleable__label {background-color: #d4ebff;}#sk-container-id-2 div.sk-label input.sk-toggleable__control:checked~label.sk-toggleable__label {background-color: #d4ebff;}#sk-container-id-2 input.sk-hidden--visually {border: 0;clip: rect(1px 1px 1px 1px);clip: rect(1px, 1px, 1px, 1px);height: 1px;margin: -1px;overflow: hidden;padding: 0;position: absolute;width: 1px;}#sk-container-id-2 div.sk-estimator {font-family: monospace;background-color: #f0f8ff;border: 1px dotted black;border-radius: 0.25em;box-sizing: border-box;margin-bottom: 0.5em;}#sk-container-id-2 div.sk-estimator:hover {background-color: #d4ebff;}#sk-container-id-2 div.sk-parallel-item::after {content: \"\";width: 100%;border-bottom: 1px solid gray;flex-grow: 1;}#sk-container-id-2 div.sk-label:hover label.sk-toggleable__label {background-color: #d4ebff;}#sk-container-id-2 div.sk-serial::before {content: \"\";position: absolute;border-left: 1px solid gray;box-sizing: border-box;top: 0;bottom: 0;left: 50%;z-index: 0;}#sk-container-id-2 div.sk-serial {display: flex;flex-direction: column;align-items: center;background-color: white;padding-right: 0.2em;padding-left: 0.2em;position: relative;}#sk-container-id-2 div.sk-item {position: relative;z-index: 1;}#sk-container-id-2 div.sk-parallel {display: flex;align-items: stretch;justify-content: center;background-color: white;position: relative;}#sk-container-id-2 div.sk-item::before, #sk-container-id-2 div.sk-parallel-item::before {content: \"\";position: absolute;border-left: 1px solid gray;box-sizing: border-box;top: 0;bottom: 0;left: 50%;z-index: -1;}#sk-container-id-2 div.sk-parallel-item {display: flex;flex-direction: column;z-index: 1;position: relative;background-color: white;}#sk-container-id-2 div.sk-parallel-item:first-child::after {align-self: flex-end;width: 50%;}#sk-container-id-2 div.sk-parallel-item:last-child::after {align-self: flex-start;width: 50%;}#sk-container-id-2 div.sk-parallel-item:only-child::after {width: 0;}#sk-container-id-2 div.sk-dashed-wrapped {border: 1px dashed gray;margin: 0 0.4em 0.5em 0.4em;box-sizing: border-box;padding-bottom: 0.4em;background-color: white;}#sk-container-id-2 div.sk-label label {font-family: monospace;font-weight: bold;display: inline-block;line-height: 1.2em;}#sk-container-id-2 div.sk-label-container {text-align: center;}#sk-container-id-2 div.sk-container {/* jupyter's `normalize.less` sets `[hidden] { display: none; }` but bootstrap.min.css set `[hidden] { display: none !important; }` so we also need the `!important` here to be able to override the default hidden behavior on the sphinx rendered scikit-learn.org. See: https://github.com/scikit-learn/scikit-learn/issues/21755 */display: inline-block !important;position: relative;}#sk-container-id-2 div.sk-text-repr-fallback {display: none;}</style><div id=\"sk-container-id-2\" class=\"sk-top-container\"><div class=\"sk-text-repr-fallback\"><pre>RandomForestClassifier(random_state=42)</pre><b>In a Jupyter environment, please rerun this cell to show the HTML representation or trust the notebook. <br />On GitHub, the HTML representation is unable to render, please try loading this page with nbviewer.org.</b></div><div class=\"sk-container\" hidden><div class=\"sk-item\"><div class=\"sk-estimator sk-toggleable\"><input class=\"sk-toggleable__control sk-hidden--visually\" id=\"sk-estimator-id-2\" type=\"checkbox\" checked><label for=\"sk-estimator-id-2\" class=\"sk-toggleable__label sk-toggleable__label-arrow\">RandomForestClassifier</label><div class=\"sk-toggleable__content\"><pre>RandomForestClassifier(random_state=42)</pre></div></div></div></div></div>"
      ],
      "text/plain": [
       "RandomForestClassifier(random_state=42)"
      ]
     },
     "execution_count": 27,
     "metadata": {},
     "output_type": "execute_result"
    }
   ],
   "source": [
    "RFclassifier_unscaled = RandomForestClassifier(n_estimators= 100, criterion = 'gini' , random_state= 42)\n",
    "RFclassifier_unscaled.fit(X1_train, y1_train)"
   ]
  },
  {
   "cell_type": "code",
   "execution_count": 28,
   "metadata": {},
   "outputs": [],
   "source": [
    "y1_pred_unscaled = RFclassifier_unscaled.predict(X1_test)"
   ]
  },
  {
   "cell_type": "code",
   "execution_count": 29,
   "metadata": {},
   "outputs": [
    {
     "data": {
      "text/plain": [
       "0.96"
      ]
     },
     "execution_count": 29,
     "metadata": {},
     "output_type": "execute_result"
    }
   ],
   "source": [
    "cross_val_score(RFclassifier_unscaled,X, y, cv=5).mean()"
   ]
  },
  {
   "cell_type": "code",
   "execution_count": 30,
   "metadata": {},
   "outputs": [
    {
     "data": {
      "text/plain": [
       "1.0"
      ]
     },
     "execution_count": 30,
     "metadata": {},
     "output_type": "execute_result"
    }
   ],
   "source": [
    "from sklearn.metrics import balanced_accuracy_score\n",
    "\n",
    "\n",
    "accuracy_score(y1_test, y1_pred_unscaled)"
   ]
  },
  {
   "cell_type": "code",
   "execution_count": 31,
   "metadata": {},
   "outputs": [
    {
     "name": "stdout",
     "output_type": "stream",
     "text": [
      "              precision    recall  f1-score   support\n",
      "\n",
      "           0       1.00      1.00      1.00         4\n",
      "           1       1.00      1.00      1.00         8\n",
      "           2       1.00      1.00      1.00         3\n",
      "           3       1.00      1.00      1.00         4\n",
      "           4       1.00      1.00      1.00         5\n",
      "           5       1.00      1.00      1.00         4\n",
      "           6       1.00      1.00      1.00         3\n",
      "\n",
      "    accuracy                           1.00        31\n",
      "   macro avg       1.00      1.00      1.00        31\n",
      "weighted avg       1.00      1.00      1.00        31\n",
      "\n"
     ]
    }
   ],
   "source": [
    "print(classification_report(y1_test,y1_pred_unscaled))"
   ]
  },
  {
   "attachments": {},
   "cell_type": "markdown",
   "metadata": {},
   "source": [
    "for 8:2  ratio unscaled data overfits in Random Forest"
   ]
  },
  {
   "attachments": {},
   "cell_type": "markdown",
   "metadata": {},
   "source": [
    "For 7:3 ratio"
   ]
  },
  {
   "attachments": {},
   "cell_type": "markdown",
   "metadata": {},
   "source": [
    "Scaled Data"
   ]
  },
  {
   "cell_type": "code",
   "execution_count": 32,
   "metadata": {},
   "outputs": [
    {
     "data": {
      "text/html": [
       "<style>#sk-container-id-3 {color: black;background-color: white;}#sk-container-id-3 pre{padding: 0;}#sk-container-id-3 div.sk-toggleable {background-color: white;}#sk-container-id-3 label.sk-toggleable__label {cursor: pointer;display: block;width: 100%;margin-bottom: 0;padding: 0.3em;box-sizing: border-box;text-align: center;}#sk-container-id-3 label.sk-toggleable__label-arrow:before {content: \"▸\";float: left;margin-right: 0.25em;color: #696969;}#sk-container-id-3 label.sk-toggleable__label-arrow:hover:before {color: black;}#sk-container-id-3 div.sk-estimator:hover label.sk-toggleable__label-arrow:before {color: black;}#sk-container-id-3 div.sk-toggleable__content {max-height: 0;max-width: 0;overflow: hidden;text-align: left;background-color: #f0f8ff;}#sk-container-id-3 div.sk-toggleable__content pre {margin: 0.2em;color: black;border-radius: 0.25em;background-color: #f0f8ff;}#sk-container-id-3 input.sk-toggleable__control:checked~div.sk-toggleable__content {max-height: 200px;max-width: 100%;overflow: auto;}#sk-container-id-3 input.sk-toggleable__control:checked~label.sk-toggleable__label-arrow:before {content: \"▾\";}#sk-container-id-3 div.sk-estimator input.sk-toggleable__control:checked~label.sk-toggleable__label {background-color: #d4ebff;}#sk-container-id-3 div.sk-label input.sk-toggleable__control:checked~label.sk-toggleable__label {background-color: #d4ebff;}#sk-container-id-3 input.sk-hidden--visually {border: 0;clip: rect(1px 1px 1px 1px);clip: rect(1px, 1px, 1px, 1px);height: 1px;margin: -1px;overflow: hidden;padding: 0;position: absolute;width: 1px;}#sk-container-id-3 div.sk-estimator {font-family: monospace;background-color: #f0f8ff;border: 1px dotted black;border-radius: 0.25em;box-sizing: border-box;margin-bottom: 0.5em;}#sk-container-id-3 div.sk-estimator:hover {background-color: #d4ebff;}#sk-container-id-3 div.sk-parallel-item::after {content: \"\";width: 100%;border-bottom: 1px solid gray;flex-grow: 1;}#sk-container-id-3 div.sk-label:hover label.sk-toggleable__label {background-color: #d4ebff;}#sk-container-id-3 div.sk-serial::before {content: \"\";position: absolute;border-left: 1px solid gray;box-sizing: border-box;top: 0;bottom: 0;left: 50%;z-index: 0;}#sk-container-id-3 div.sk-serial {display: flex;flex-direction: column;align-items: center;background-color: white;padding-right: 0.2em;padding-left: 0.2em;position: relative;}#sk-container-id-3 div.sk-item {position: relative;z-index: 1;}#sk-container-id-3 div.sk-parallel {display: flex;align-items: stretch;justify-content: center;background-color: white;position: relative;}#sk-container-id-3 div.sk-item::before, #sk-container-id-3 div.sk-parallel-item::before {content: \"\";position: absolute;border-left: 1px solid gray;box-sizing: border-box;top: 0;bottom: 0;left: 50%;z-index: -1;}#sk-container-id-3 div.sk-parallel-item {display: flex;flex-direction: column;z-index: 1;position: relative;background-color: white;}#sk-container-id-3 div.sk-parallel-item:first-child::after {align-self: flex-end;width: 50%;}#sk-container-id-3 div.sk-parallel-item:last-child::after {align-self: flex-start;width: 50%;}#sk-container-id-3 div.sk-parallel-item:only-child::after {width: 0;}#sk-container-id-3 div.sk-dashed-wrapped {border: 1px dashed gray;margin: 0 0.4em 0.5em 0.4em;box-sizing: border-box;padding-bottom: 0.4em;background-color: white;}#sk-container-id-3 div.sk-label label {font-family: monospace;font-weight: bold;display: inline-block;line-height: 1.2em;}#sk-container-id-3 div.sk-label-container {text-align: center;}#sk-container-id-3 div.sk-container {/* jupyter's `normalize.less` sets `[hidden] { display: none; }` but bootstrap.min.css set `[hidden] { display: none !important; }` so we also need the `!important` here to be able to override the default hidden behavior on the sphinx rendered scikit-learn.org. See: https://github.com/scikit-learn/scikit-learn/issues/21755 */display: inline-block !important;position: relative;}#sk-container-id-3 div.sk-text-repr-fallback {display: none;}</style><div id=\"sk-container-id-3\" class=\"sk-top-container\"><div class=\"sk-text-repr-fallback\"><pre>RandomForestClassifier(random_state=42)</pre><b>In a Jupyter environment, please rerun this cell to show the HTML representation or trust the notebook. <br />On GitHub, the HTML representation is unable to render, please try loading this page with nbviewer.org.</b></div><div class=\"sk-container\" hidden><div class=\"sk-item\"><div class=\"sk-estimator sk-toggleable\"><input class=\"sk-toggleable__control sk-hidden--visually\" id=\"sk-estimator-id-3\" type=\"checkbox\" checked><label for=\"sk-estimator-id-3\" class=\"sk-toggleable__label sk-toggleable__label-arrow\">RandomForestClassifier</label><div class=\"sk-toggleable__content\"><pre>RandomForestClassifier(random_state=42)</pre></div></div></div></div></div>"
      ],
      "text/plain": [
       "RandomForestClassifier(random_state=42)"
      ]
     },
     "execution_count": 32,
     "metadata": {},
     "output_type": "execute_result"
    }
   ],
   "source": [
    "RFclassifier_scaled2 = RandomForestClassifier(n_estimators= 100, criterion = 'gini' , random_state= 42)\n",
    "RFclassifier_scaled2.fit(X2_train_scaled, y2_train)"
   ]
  },
  {
   "cell_type": "code",
   "execution_count": 33,
   "metadata": {},
   "outputs": [],
   "source": [
    "y2_pred_scaled = RFclassifier_scaled2.predict(X2_test)\n"
   ]
  },
  {
   "cell_type": "code",
   "execution_count": 34,
   "metadata": {},
   "outputs": [
    {
     "data": {
      "text/plain": [
       "0.96"
      ]
     },
     "execution_count": 34,
     "metadata": {},
     "output_type": "execute_result"
    }
   ],
   "source": [
    "cross_val_score(RFclassifier_scaled2, X,y, cv=5).mean()"
   ]
  },
  {
   "cell_type": "code",
   "execution_count": 35,
   "metadata": {},
   "outputs": [
    {
     "data": {
      "text/plain": [
       "array([[ 0.00284458,  0.23510291,  1.34565628,  0.09131411,  1.00607041,\n",
       "        -0.59241467,  0.25376989,  1.15154493],\n",
       "       [-0.60589655, -0.85863671,  0.2096782 , -0.66027128,  0.32689354,\n",
       "         1.80140593, -0.76813144, -1.52341425],\n",
       "       [ 1.22032685,  1.14655259, -0.54764052, -0.66027128,  0.32689354,\n",
       "         2.18441723, -0.76813144, -1.52341425],\n",
       "       [ 1.82906799,  1.6934224 , -1.02096472, -1.41185667, -0.01269489,\n",
       "        -0.3051562 , -0.76813144, -0.35311961],\n",
       "       [ 0.00284458,  0.23510291, -1.58895376,  0.8428995 ,  1.34565885,\n",
       "        -1.16693161,  1.71362894, -0.10234219],\n",
       "       [-1.51900825, -1.58779645,  0.39900788,  0.09131411, -0.01269489,\n",
       "        -0.49666184,  0.83771351, -0.35311961],\n",
       "       [ 0.91595629,  0.96426265, -0.92629988, -0.66027128,  0.66648198,\n",
       "         2.08866441, -0.76813144, -1.52341425],\n",
       "       [-0.30152598,  0.05281297,  0.49367272,  0.09131411,  1.34565885,\n",
       "        -0.40090902, -0.76813144, -0.77108198],\n",
       "       [-0.91026712, -0.85863671, -1.49428892, -0.66027128,  0.66648198,\n",
       "        -0.3051562 , -0.76813144,  1.82028472],\n",
       "       [-0.60589655, -0.85863671, -0.263646  , -0.66027128,  0.32689354,\n",
       "         1.89715876, -0.76813144, -1.52341425],\n",
       "       [ 1.82906799,  0.23510291, -0.07431632,  1.59448489, -0.35228333,\n",
       "        -0.11365055, -0.76813144,  1.9038772 ],\n",
       "       [-0.30152598, -0.12947696,  2.00831016, -1.41185667, -1.37104864,\n",
       "        -0.20940337, -0.76813144,  1.40232235],\n",
       "       [-1.21463768, -1.22321658, -0.54764052,  1.59448489, -0.69187177,\n",
       "         1.99291158, -0.76813144, -1.52341425],\n",
       "       [-0.30152598, -0.12947696, -0.16898116, -0.66027128,  0.32689354,\n",
       "        -0.68816749,  0.6917276 ,  0.31562018],\n",
       "       [-0.30152598, -0.67634677,  0.39900788,  0.09131411,  1.34565885,\n",
       "        -0.40090902, -0.76813144,  1.48591483],\n",
       "       [ 0.00284458,  0.23510291,  1.72431564,  0.09131411, -1.37104864,\n",
       "        -0.78392032,  0.5457417 ,  0.90076751],\n",
       "       [ 0.91595629,  0.96426265, -0.45297568, -0.66027128,  0.32689354,\n",
       "        -0.3051562 , -0.76813144, -0.68748951],\n",
       "       [-0.91026712, -1.04092664, -0.83163504, -1.41185667, -0.01269489,\n",
       "         1.99291158, -0.76813144, -1.52341425],\n",
       "       [ 1.52469742,  1.51113246, -0.16898116,  1.59448489, -1.71063708,\n",
       "        -0.59241467, -0.76813144,  1.40232235],\n",
       "       [ 0.00284458,  0.23510291,  0.30434304,  1.59448489, -0.69187177,\n",
       "         0.55661922, -0.76813144,  0.23202771],\n",
       "       [ 2.13343856,  2.05800227, -1.11562956, -1.41185667, -0.01269489,\n",
       "        -0.40090902, -0.76813144,  1.73669225],\n",
       "       [-0.91026712, -0.85863671, -1.30495924, -0.66027128,  0.66648198,\n",
       "        -0.3051562 , -0.76813144, -0.43671209],\n",
       "       [ 0.91595629,  0.96426265,  1.6296508 , -1.41185667, -1.37104864,\n",
       "        -0.87967314,  0.39975579,  0.98435998],\n",
       "       [-1.21463768, -1.22321658,  0.02034852,  1.59448489, -0.69187177,\n",
       "         0.65237204, -0.76813144,  0.14843524],\n",
       "       [-0.60589655, -0.85863671, -0.64230536, -1.41185667, -0.35228333,\n",
       "         1.89715876, -0.76813144, -1.52341425],\n",
       "       [ 0.30721515,  0.23510291, -0.263646  , -0.66027128,  0.32689354,\n",
       "        -0.97542596,  1.71362894,  0.14843524],\n",
       "       [-0.30152598, -0.12947696, -0.92629988,  1.59448489, -0.35228333,\n",
       "        -0.11365055, -0.76813144,  1.5695073 ],\n",
       "       [ 1.22032685,  1.14655259,  1.81898048,  0.8428995 , -1.37104864,\n",
       "        -0.20940337, -0.76813144,  1.65309978],\n",
       "       [-1.51900825, -1.40550652, -0.45297568, -0.66027128, -0.01269489,\n",
       "         0.4608664 , -0.76813144,  0.31562018],\n",
       "       [-0.60589655, -0.49405684, -0.35831084,  1.59448489, -1.37104864,\n",
       "        -0.40090902,  0.98369941, -0.52030456],\n",
       "       [-0.30152598, -0.12947696, -0.07431632, -0.66027128,  0.32689354,\n",
       "         0.74812487, -0.76813144, -0.01874971],\n",
       "       [-1.21463768, -1.22321658,  0.96699692, -0.66027128,  1.00607041,\n",
       "        -0.59241467,  1.12968532, -0.35311961],\n",
       "       [ 0.00284458,  0.41739284,  0.2096782 ,  1.59448489, -1.0314602 ,\n",
       "        -0.3051562 ,  1.27567122, -0.52030456],\n",
       "       [-0.91026712, -1.04092664, -0.92629988, -1.41185667, -0.01269489,\n",
       "         2.4716757 , -0.76813144, -1.52341425],\n",
       "       [ 1.82906799,  1.6934224 , -0.54764052,  1.59448489, -1.71063708,\n",
       "        -0.87967314,  0.5457417 ,  0.98435998],\n",
       "       [-0.30152598, -0.12947696,  1.25099144, -1.41185667,  1.00607041,\n",
       "        -0.40090902, -0.76813144, -0.68748951],\n",
       "       [ 0.00284458, -0.12947696,  0.2096782 ,  0.09131411, -1.0314602 ,\n",
       "        -1.07117879,  1.85961484, -0.10234219],\n",
       "       [ 1.22032685,  1.14655259,  1.91364532, -1.41185667, -1.37104864,\n",
       "         0.74812487, -0.76813144,  0.14843524],\n",
       "       [ 1.52469742,  1.51113246, -1.02096472, -1.41185667, -0.35228333,\n",
       "        -0.40090902, -0.76813144, -0.35311961],\n",
       "       [ 0.00284458,  0.23510291, -1.6836186 , -1.41185667, -0.01269489,\n",
       "        -0.78392032,  0.5457417 ,  0.98435998],\n",
       "       [ 0.00284458,  0.23510291,  0.30434304,  1.59448489, -1.71063708,\n",
       "        -0.40090902, -0.76813144,  1.98746967],\n",
       "       [-1.21463768, -1.22321658, -0.83163504,  1.59448489, -1.71063708,\n",
       "        -0.40090902,  0.6917276 , -0.43671209],\n",
       "       [-1.21463768, -1.22321658, -0.92629988, -1.41185667,  0.32689354,\n",
       "        -0.3051562 , -0.76813144, -0.68748951],\n",
       "       [-1.21463768, -1.04092664, -0.83163504, -0.66027128,  0.66648198,\n",
       "        -1.07117879,  1.85961484, -0.18593466],\n",
       "       [ 0.91595629,  0.96426265,  0.6830024 ,  1.59448489, -0.69187177,\n",
       "        -1.07117879,  0.5457417 ,  0.90076751],\n",
       "       [-0.60589655, -0.85863671, -0.83163504, -1.41185667, -0.35228333,\n",
       "         2.37592288, -0.76813144, -1.52341425],\n",
       "       [-0.60589655, -0.85863671, -0.07431632, -0.66027128,  0.32689354,\n",
       "        -0.59241467,  0.39975579,  0.90076751],\n",
       "       [-0.91026712, -1.04092664,  1.44032112,  0.09131411,  1.00607041,\n",
       "        -0.59241467, -0.76813144, -0.26952714],\n",
       "       [-1.21463768, -1.22321658,  0.39900788,  0.09131411,  1.68524729,\n",
       "         0.65237204, -0.76813144,  0.06484276],\n",
       "       [ 0.61158572,  0.78197272,  1.1563266 ,  0.09131411, -0.01269489,\n",
       "        -0.49666184,  1.12968532, -0.43671209],\n",
       "       [ 0.91595629,  0.96426265,  0.58833756,  0.09131411,  1.68524729,\n",
       "         2.37592288, -0.76813144, -1.52341425],\n",
       "       [ 1.22032685,  1.14655259,  1.53498596, -1.41185667,  1.00607041,\n",
       "         1.80140593, -0.76813144, -1.52341425],\n",
       "       [-1.21463768, -1.22321658, -0.45297568, -0.66027128,  0.66648198,\n",
       "         0.4608664 , -0.76813144,  0.39921266],\n",
       "       [-1.51900825, -1.40550652, -0.54764052, -0.66027128,  0.66648198,\n",
       "        -1.07117879,  1.85961484, -0.18593466],\n",
       "       [ 1.22032685,  1.14655259,  0.11501336, -0.66027128,  0.32689354,\n",
       "        -0.97542596,  2.00560074,  0.23202771],\n",
       "       [-1.21463768, -1.22321658,  1.44032112,  0.09131411,  1.00607041,\n",
       "        -0.49666184, -0.76813144, -0.77108198],\n",
       "       [-0.30152598,  0.05281297, -0.64230536,  0.8428995 , -0.35228333,\n",
       "        -0.59241467, -0.76813144, -0.43671209],\n",
       "       [-0.60589655, -0.49405684, -1.02096472,  0.09131411, -0.01269489,\n",
       "        -0.59241467, -0.76813144, -0.35311961],\n",
       "       [-0.30152598, -0.12947696,  1.6296508 ,  0.09131411, -1.37104864,\n",
       "        -0.49666184, -0.76813144,  1.65309978],\n",
       "       [ 0.00284458,  0.23510291, -0.16898116,  1.59448489, -0.35228333,\n",
       "         0.4608664 , -0.76813144, -0.01874971],\n",
       "       [ 0.61158572,  0.59968278, -0.263646  , -0.66027128,  0.32689354,\n",
       "         0.74812487, -0.76813144,  0.31562018],\n",
       "       [ 0.61158572,  0.59968278, -0.92629988,  0.8428995 , -1.0314602 ,\n",
       "        -0.11365055, -0.76813144,  1.5695073 ],\n",
       "       [ 0.91595629,  0.96426265,  0.96699692,  0.09131411,  0.32689354,\n",
       "        -0.49666184,  1.12968532, -0.52030456],\n",
       "       [ 0.61158572,  0.59968278, -0.92629988,  0.8428995 ,  1.34565885,\n",
       "         0.55661922, -0.76813144,  0.14843524],\n",
       "       [-1.51900825, -1.58779645, -0.45297568,  1.59448489, -1.71063708,\n",
       "         0.4608664 , -0.76813144,  0.06484276],\n",
       "       [-1.51900825, -1.58779645, -1.6836186 ,  0.8428995 , -1.0314602 ,\n",
       "        -0.11365055,  1.27567122, -0.60389704],\n",
       "       [ 1.22032685,  1.14655259,  0.39900788,  0.09131411,  1.68524729,\n",
       "         0.65237204, -0.76813144,  0.06484276],\n",
       "       [-1.51900825, -1.58779645, -1.6836186 ,  0.09131411, -1.0314602 ,\n",
       "        -0.20940337,  1.12968532, -0.60389704],\n",
       "       [-1.51900825, -1.58779645,  1.91364532,  0.8428995 , -1.37104864,\n",
       "        -0.68816749, -0.76813144, -0.68748951],\n",
       "       [-0.30152598,  0.05281297,  1.1563266 ,  0.8428995 , -1.71063708,\n",
       "        -0.49666184,  0.83771351, -0.35311961],\n",
       "       [ 0.61158572,  0.78197272, -0.45297568, -0.66027128,  0.32689354,\n",
       "        -1.07117879,  1.85961484,  0.06484276],\n",
       "       [ 1.22032685,  1.14655259,  1.72431564, -1.41185667, -1.37104864,\n",
       "        -0.87967314,  0.5457417 ,  0.98435998],\n",
       "       [-0.60589655, -0.85863671,  0.30434304,  1.59448489, -1.71063708,\n",
       "        -1.07117879,  1.85961484, -0.26952714],\n",
       "       [ 0.91595629,  0.96426265,  1.6296508 , -1.41185667, -1.37104864,\n",
       "        -0.87967314,  0.39975579,  0.98435998],\n",
       "       [ 0.30721515,  0.59968278,  1.81898048,  0.8428995 , -1.37104864,\n",
       "        -0.49666184,  0.98369941, -0.26952714],\n",
       "       [-0.30152598, -0.12947696, -1.2102944 ,  0.09131411,  1.34565885,\n",
       "        -0.40090902,  1.71362894, -0.18593466],\n",
       "       [ 1.22032685,  1.14655259, -1.2102944 ,  0.8428995 ,  1.34565885,\n",
       "         0.65237204, -0.76813144,  0.23202771],\n",
       "       [ 0.30721515,  0.59968278,  1.53498596,  0.8428995 , -1.37104864,\n",
       "        -0.49666184,  0.98369941, -0.35311961],\n",
       "       [-1.21463768, -1.22321658, -1.11562956, -1.41185667, -0.01269489,\n",
       "        -0.40090902, -0.76813144, -0.85467446],\n",
       "       [ 0.30721515,  0.59968278,  1.53498596,  0.09131411, -1.0314602 ,\n",
       "        -0.49666184,  0.98369941, -0.35311961],\n",
       "       [ 0.00284458,  0.23510291,  0.49367272,  0.09131411,  1.68524729,\n",
       "        -0.3051562 , -0.76813144, -0.77108198],\n",
       "       [ 0.91595629,  0.05281297, -0.35831084,  1.59448489, -0.35228333,\n",
       "        -0.11365055, -0.76813144,  1.73669225],\n",
       "       [-1.51900825, -1.58779645,  1.1563266 ,  0.09131411,  1.00607041,\n",
       "        -0.49666184,  1.12968532, -0.26952714],\n",
       "       [ 0.00284458,  0.23510291, -1.39962408,  0.8428995 , -1.0314602 ,\n",
       "         2.37592288, -0.76813144, -1.52341425],\n",
       "       [ 1.82906799,  1.6934224 ,  0.58833756,  0.09131411,  1.68524729,\n",
       "        -0.40090902,  1.85961484,  0.06484276],\n",
       "       [ 1.22032685,  1.14655259,  0.87233208,  0.09131411,  1.00607041,\n",
       "        -0.40090902,  1.27567122, -0.52030456],\n",
       "       [-0.30152598, -0.12947696, -0.64230536,  1.59448489, -0.35228333,\n",
       "        -0.78392032, -0.76813144, -0.26952714],\n",
       "       [ 0.91595629,  0.96426265,  0.2096782 , -0.66027128,  1.34565885,\n",
       "         0.65237204, -0.76813144,  0.06484276],\n",
       "       [ 0.00284458,  0.23510291,  0.49367272, -1.41185667,  1.00607041,\n",
       "        -0.59241467,  1.12968532, -0.35311961],\n",
       "       [ 2.13343856,  2.05800227, -0.64230536, -0.66027128,  0.32689354,\n",
       "        -0.40090902, -0.76813144,  1.9038772 ],\n",
       "       [-0.91026712, -0.85863671, -1.30495924, -0.66027128,  0.32689354,\n",
       "        -0.40090902, -0.76813144, -0.43671209],\n",
       "       [-0.30152598, -1.22321658,  0.11501336,  0.09131411,  1.00607041,\n",
       "        -0.40090902, -0.76813144,  1.48591483],\n",
       "       [-0.60589655, -0.85863671, -0.54764052, -0.66027128,  0.66648198,\n",
       "         2.28017005, -0.76813144, -1.52341425],\n",
       "       [ 0.91595629,  0.96426265,  0.77766724, -0.66027128,  1.00607041,\n",
       "        -0.49666184,  1.12968532, -0.52030456],\n",
       "       [-0.91026712, -0.67634677, -1.02096472,  0.09131411,  1.00607041,\n",
       "        -0.59241467,  1.71362894, -0.18593466],\n",
       "       [ 0.91595629,  0.96426265,  0.02034852, -0.66027128,  0.32689354,\n",
       "        -0.97542596,  2.00560074,  0.14843524],\n",
       "       [-0.30152598,  0.05281297,  1.25099144,  0.09131411,  1.00607041,\n",
       "        -0.68816749,  0.25376989,  1.15154493],\n",
       "       [-0.91026712, -1.04092664, -1.30495924, -1.41185667, -0.35228333,\n",
       "         1.80140593, -0.76813144, -1.52341425],\n",
       "       [ 0.91595629,  0.96426265, -1.2102944 ,  0.8428995 , -1.0314602 ,\n",
       "        -0.3051562 , -0.76813144,  1.73669225],\n",
       "       [-0.30152598, -0.12947696,  1.1563266 ,  0.09131411,  0.32689354,\n",
       "        -0.78392032,  0.39975579,  1.15154493],\n",
       "       [-0.30152598, -1.04092664,  0.30434304,  0.09131411,  1.00607041,\n",
       "        -0.40090902, -0.76813144,  1.48591483],\n",
       "       [ 0.00284458,  0.23510291,  0.02034852,  1.59448489, -0.35228333,\n",
       "        -0.59241467, -0.76813144, -0.77108198],\n",
       "       [ 0.30721515,  0.59968278, -1.11562956,  0.8428995 ,  1.34565885,\n",
       "         2.18441723, -0.76813144, -1.52341425],\n",
       "       [ 1.52469742,  1.51113246,  0.49367272, -0.66027128,  1.34565885,\n",
       "        -0.49666184,  1.71362894,  0.06484276],\n",
       "       [-1.21463768, -1.22321658, -1.2102944 ,  0.8428995 , -1.0314602 ,\n",
       "        -0.20940337, -0.76813144,  1.9038772 ],\n",
       "       [ 1.82906799,  1.6934224 , -0.263646  ,  0.8428995 , -1.0314602 ,\n",
       "         2.37592288, -0.76813144, -1.52341425],\n",
       "       [-1.51900825, -1.58779645, -0.45297568, -0.66027128,  0.66648198,\n",
       "        -0.97542596,  1.85961484, -0.18593466]])"
      ]
     },
     "execution_count": 35,
     "metadata": {},
     "output_type": "execute_result"
    }
   ],
   "source": [
    "X2_train_scaled"
   ]
  },
  {
   "cell_type": "code",
   "execution_count": 36,
   "metadata": {},
   "outputs": [
    {
     "name": "stdout",
     "output_type": "stream",
     "text": [
      "              precision    recall  f1-score   support\n",
      "\n",
      "           0       0.00      0.00      0.00         8\n",
      "           1       0.00      0.00      0.00        10\n",
      "           2       0.00      0.00      0.00         5\n",
      "           3       0.00      0.00      0.00         5\n",
      "           4       0.00      0.00      0.00         8\n",
      "           5       0.00      0.00      0.00         5\n",
      "           6       0.13      1.00      0.23         6\n",
      "\n",
      "    accuracy                           0.13        47\n",
      "   macro avg       0.02      0.14      0.03        47\n",
      "weighted avg       0.02      0.13      0.03        47\n",
      "\n"
     ]
    }
   ],
   "source": [
    "print(classification_report(y2_test,y2_pred_scaled))"
   ]
  },
  {
   "attachments": {},
   "cell_type": "markdown",
   "metadata": {},
   "source": [
    "Unscaled Data"
   ]
  },
  {
   "cell_type": "code",
   "execution_count": 37,
   "metadata": {},
   "outputs": [
    {
     "data": {
      "text/html": [
       "<style>#sk-container-id-4 {color: black;background-color: white;}#sk-container-id-4 pre{padding: 0;}#sk-container-id-4 div.sk-toggleable {background-color: white;}#sk-container-id-4 label.sk-toggleable__label {cursor: pointer;display: block;width: 100%;margin-bottom: 0;padding: 0.3em;box-sizing: border-box;text-align: center;}#sk-container-id-4 label.sk-toggleable__label-arrow:before {content: \"▸\";float: left;margin-right: 0.25em;color: #696969;}#sk-container-id-4 label.sk-toggleable__label-arrow:hover:before {color: black;}#sk-container-id-4 div.sk-estimator:hover label.sk-toggleable__label-arrow:before {color: black;}#sk-container-id-4 div.sk-toggleable__content {max-height: 0;max-width: 0;overflow: hidden;text-align: left;background-color: #f0f8ff;}#sk-container-id-4 div.sk-toggleable__content pre {margin: 0.2em;color: black;border-radius: 0.25em;background-color: #f0f8ff;}#sk-container-id-4 input.sk-toggleable__control:checked~div.sk-toggleable__content {max-height: 200px;max-width: 100%;overflow: auto;}#sk-container-id-4 input.sk-toggleable__control:checked~label.sk-toggleable__label-arrow:before {content: \"▾\";}#sk-container-id-4 div.sk-estimator input.sk-toggleable__control:checked~label.sk-toggleable__label {background-color: #d4ebff;}#sk-container-id-4 div.sk-label input.sk-toggleable__control:checked~label.sk-toggleable__label {background-color: #d4ebff;}#sk-container-id-4 input.sk-hidden--visually {border: 0;clip: rect(1px 1px 1px 1px);clip: rect(1px, 1px, 1px, 1px);height: 1px;margin: -1px;overflow: hidden;padding: 0;position: absolute;width: 1px;}#sk-container-id-4 div.sk-estimator {font-family: monospace;background-color: #f0f8ff;border: 1px dotted black;border-radius: 0.25em;box-sizing: border-box;margin-bottom: 0.5em;}#sk-container-id-4 div.sk-estimator:hover {background-color: #d4ebff;}#sk-container-id-4 div.sk-parallel-item::after {content: \"\";width: 100%;border-bottom: 1px solid gray;flex-grow: 1;}#sk-container-id-4 div.sk-label:hover label.sk-toggleable__label {background-color: #d4ebff;}#sk-container-id-4 div.sk-serial::before {content: \"\";position: absolute;border-left: 1px solid gray;box-sizing: border-box;top: 0;bottom: 0;left: 50%;z-index: 0;}#sk-container-id-4 div.sk-serial {display: flex;flex-direction: column;align-items: center;background-color: white;padding-right: 0.2em;padding-left: 0.2em;position: relative;}#sk-container-id-4 div.sk-item {position: relative;z-index: 1;}#sk-container-id-4 div.sk-parallel {display: flex;align-items: stretch;justify-content: center;background-color: white;position: relative;}#sk-container-id-4 div.sk-item::before, #sk-container-id-4 div.sk-parallel-item::before {content: \"\";position: absolute;border-left: 1px solid gray;box-sizing: border-box;top: 0;bottom: 0;left: 50%;z-index: -1;}#sk-container-id-4 div.sk-parallel-item {display: flex;flex-direction: column;z-index: 1;position: relative;background-color: white;}#sk-container-id-4 div.sk-parallel-item:first-child::after {align-self: flex-end;width: 50%;}#sk-container-id-4 div.sk-parallel-item:last-child::after {align-self: flex-start;width: 50%;}#sk-container-id-4 div.sk-parallel-item:only-child::after {width: 0;}#sk-container-id-4 div.sk-dashed-wrapped {border: 1px dashed gray;margin: 0 0.4em 0.5em 0.4em;box-sizing: border-box;padding-bottom: 0.4em;background-color: white;}#sk-container-id-4 div.sk-label label {font-family: monospace;font-weight: bold;display: inline-block;line-height: 1.2em;}#sk-container-id-4 div.sk-label-container {text-align: center;}#sk-container-id-4 div.sk-container {/* jupyter's `normalize.less` sets `[hidden] { display: none; }` but bootstrap.min.css set `[hidden] { display: none !important; }` so we also need the `!important` here to be able to override the default hidden behavior on the sphinx rendered scikit-learn.org. See: https://github.com/scikit-learn/scikit-learn/issues/21755 */display: inline-block !important;position: relative;}#sk-container-id-4 div.sk-text-repr-fallback {display: none;}</style><div id=\"sk-container-id-4\" class=\"sk-top-container\"><div class=\"sk-text-repr-fallback\"><pre>RandomForestClassifier(random_state=42)</pre><b>In a Jupyter environment, please rerun this cell to show the HTML representation or trust the notebook. <br />On GitHub, the HTML representation is unable to render, please try loading this page with nbviewer.org.</b></div><div class=\"sk-container\" hidden><div class=\"sk-item\"><div class=\"sk-estimator sk-toggleable\"><input class=\"sk-toggleable__control sk-hidden--visually\" id=\"sk-estimator-id-4\" type=\"checkbox\" checked><label for=\"sk-estimator-id-4\" class=\"sk-toggleable__label sk-toggleable__label-arrow\">RandomForestClassifier</label><div class=\"sk-toggleable__content\"><pre>RandomForestClassifier(random_state=42)</pre></div></div></div></div></div>"
      ],
      "text/plain": [
       "RandomForestClassifier(random_state=42)"
      ]
     },
     "execution_count": 37,
     "metadata": {},
     "output_type": "execute_result"
    }
   ],
   "source": [
    "RFclassifier_2 = RandomForestClassifier(n_estimators= 100, criterion = 'gini' , random_state= 42)\n",
    "RFclassifier_2.fit(X2_train, y2_train)"
   ]
  },
  {
   "cell_type": "code",
   "execution_count": 38,
   "metadata": {},
   "outputs": [
    {
     "name": "stdout",
     "output_type": "stream",
     "text": [
      "0.96\n",
      "              precision    recall  f1-score   support\n",
      "\n",
      "           0       1.00      1.00      1.00         8\n",
      "           1       1.00      1.00      1.00        10\n",
      "           2       1.00      1.00      1.00         5\n",
      "           3       1.00      1.00      1.00         5\n",
      "           4       1.00      1.00      1.00         8\n",
      "           5       1.00      1.00      1.00         5\n",
      "           6       1.00      1.00      1.00         6\n",
      "\n",
      "    accuracy                           1.00        47\n",
      "   macro avg       1.00      1.00      1.00        47\n",
      "weighted avg       1.00      1.00      1.00        47\n",
      "\n",
      "1.0\n"
     ]
    }
   ],
   "source": [
    "y2_pred_unscaled = RFclassifier_2.predict(X2_test)\n",
    "print(cross_val_score(RFclassifier_2, X,y, cv=5).mean())\n",
    "print(classification_report(y2_test,y2_pred_unscaled))\n",
    "print(accuracy_score(y2_test,y2_pred_unscaled))"
   ]
  },
  {
   "attachments": {},
   "cell_type": "markdown",
   "metadata": {},
   "source": [
    "From this we can infer that scaled data gives a better result than   unscaled data for the  sample train, test  samples"
   ]
  },
  {
   "attachments": {},
   "cell_type": "markdown",
   "metadata": {},
   "source": [
    "# KNN classifier"
   ]
  },
  {
   "attachments": {},
   "cell_type": "markdown",
   "metadata": {},
   "source": [
    "For 8:2 Ratio \n",
    "Unscaled data"
   ]
  },
  {
   "cell_type": "code",
   "execution_count": 39,
   "metadata": {},
   "outputs": [
    {
     "name": "stdout",
     "output_type": "stream",
     "text": [
      "0.8673684210526316\n",
      "              precision    recall  f1-score   support\n",
      "\n",
      "           0       0.57      1.00      0.73         4\n",
      "           1       1.00      0.38      0.55         8\n",
      "           2       1.00      1.00      1.00         3\n",
      "           3       1.00      1.00      1.00         4\n",
      "           4       1.00      1.00      1.00         5\n",
      "           5       0.67      1.00      0.80         4\n",
      "           6       1.00      1.00      1.00         3\n",
      "\n",
      "    accuracy                           0.84        31\n",
      "   macro avg       0.89      0.91      0.87        31\n",
      "weighted avg       0.90      0.84      0.82        31\n",
      "\n",
      "Accuracy Score: 0.8387096774193549 \n",
      " Confusion Matrix:\n",
      " [[4 0 0 0 0 0 0]\n",
      " [3 3 0 0 0 2 0]\n",
      " [0 0 3 0 0 0 0]\n",
      " [0 0 0 4 0 0 0]\n",
      " [0 0 0 0 5 0 0]\n",
      " [0 0 0 0 0 4 0]\n",
      " [0 0 0 0 0 0 3]] \n",
      " Classification Report:\n",
      "               precision    recall  f1-score   support\n",
      "\n",
      "           0       0.57      1.00      0.73         4\n",
      "           1       1.00      0.38      0.55         8\n",
      "           2       1.00      1.00      1.00         3\n",
      "           3       1.00      1.00      1.00         4\n",
      "           4       1.00      1.00      1.00         5\n",
      "           5       0.67      1.00      0.80         4\n",
      "           6       1.00      1.00      1.00         3\n",
      "\n",
      "    accuracy                           0.84        31\n",
      "   macro avg       0.89      0.91      0.87        31\n",
      "weighted avg       0.90      0.84      0.82        31\n",
      "\n",
      "None\n"
     ]
    }
   ],
   "source": [
    "from sklearn.metrics import accuracy_score\n",
    "from sklearn.neighbors import KNeighborsClassifier\n",
    "\n",
    "Kneigh1 = KNeighborsClassifier(n_neighbors=5)\n",
    "Kneigh1.fit(X1_train,y1_train)\n",
    "\n",
    "pred_KN = Kneigh1.predict(X1_test)\n",
    "print(cross_val_score(Kneigh1,X,y,cv=5).mean())\n",
    "print(classification_report(y1_test,pred_KN))\n",
    "print(evaulate(y1_test,pred_KN))\n"
   ]
  },
  {
   "attachments": {},
   "cell_type": "markdown",
   "metadata": {},
   "source": [
    "SCaled data"
   ]
  },
  {
   "cell_type": "code",
   "execution_count": 40,
   "metadata": {},
   "outputs": [
    {
     "name": "stdout",
     "output_type": "stream",
     "text": [
      "              precision    recall  f1-score   support\n",
      "\n",
      "           0       0.80      1.00      0.89         4\n",
      "           1       1.00      0.62      0.77         8\n",
      "           2       0.75      1.00      0.86         3\n",
      "           3       1.00      0.75      0.86         4\n",
      "           4       1.00      1.00      1.00         5\n",
      "           5       0.67      1.00      0.80         4\n",
      "           6       1.00      1.00      1.00         3\n",
      "\n",
      "    accuracy                           0.87        31\n",
      "   macro avg       0.89      0.91      0.88        31\n",
      "weighted avg       0.91      0.87      0.87        31\n",
      "\n"
     ]
    }
   ],
   "source": [
    "\n",
    "Kneigh1Scaled = KNeighborsClassifier(n_neighbors=3)\n",
    "Kneigh1Scaled.fit(X1_train_scaled,y1_train)\n",
    "\n",
    "pred_KNScaled = Kneigh1Scaled.predict(X1_test_scaled)\n",
    "\n",
    "print(classification_report(y1_test,pred_KNScaled))"
   ]
  },
  {
   "cell_type": "code",
   "execution_count": 41,
   "metadata": {},
   "outputs": [
    {
     "name": "stdout",
     "output_type": "stream",
     "text": [
      "Accuracy Score: 0.8709677419354839 \n",
      " Confusion Matrix:\n",
      " [[4 0 0 0 0 0 0]\n",
      " [1 5 0 0 0 2 0]\n",
      " [0 0 3 0 0 0 0]\n",
      " [0 0 1 3 0 0 0]\n",
      " [0 0 0 0 5 0 0]\n",
      " [0 0 0 0 0 4 0]\n",
      " [0 0 0 0 0 0 3]] \n",
      " Classification Report:\n",
      "               precision    recall  f1-score   support\n",
      "\n",
      "           0       0.80      1.00      0.89         4\n",
      "           1       1.00      0.62      0.77         8\n",
      "           2       0.75      1.00      0.86         3\n",
      "           3       1.00      0.75      0.86         4\n",
      "           4       1.00      1.00      1.00         5\n",
      "           5       0.67      1.00      0.80         4\n",
      "           6       1.00      1.00      1.00         3\n",
      "\n",
      "    accuracy                           0.87        31\n",
      "   macro avg       0.89      0.91      0.88        31\n",
      "weighted avg       0.91      0.87      0.87        31\n",
      "\n"
     ]
    },
    {
     "data": {
      "text/plain": [
       "0.8784210526315789"
      ]
     },
     "execution_count": 41,
     "metadata": {},
     "output_type": "execute_result"
    }
   ],
   "source": [
    "evaulate(y1_test,pred_KNScaled)\n",
    "cross_val_score(Kneigh1Scaled,X,y,cv=5).mean()"
   ]
  },
  {
   "attachments": {},
   "cell_type": "markdown",
   "metadata": {},
   "source": [
    "For 7:3 Ratio\n",
    "Unscaled data"
   ]
  },
  {
   "cell_type": "code",
   "execution_count": 42,
   "metadata": {},
   "outputs": [
    {
     "name": "stdout",
     "output_type": "stream",
     "text": [
      "              precision    recall  f1-score   support\n",
      "\n",
      "           0       0.73      1.00      0.84         8\n",
      "           1       1.00      0.50      0.67        10\n",
      "           2       1.00      1.00      1.00         5\n",
      "           3       1.00      1.00      1.00         5\n",
      "           4       1.00      1.00      1.00         8\n",
      "           5       0.71      1.00      0.83         5\n",
      "           6       1.00      1.00      1.00         6\n",
      "\n",
      "    accuracy                           0.89        47\n",
      "   macro avg       0.92      0.93      0.91        47\n",
      "weighted avg       0.92      0.89      0.88        47\n",
      "\n"
     ]
    }
   ],
   "source": [
    "\n",
    "Kneigh2 = KNeighborsClassifier(n_neighbors=5)\n",
    "Kneigh2.fit(X2_train,y2_train)\n",
    "\n",
    "pred_KN2 = Kneigh2.predict(X2_test)\n",
    "\n",
    "print(classification_report(y2_test,pred_KN2))"
   ]
  },
  {
   "cell_type": "code",
   "execution_count": 43,
   "metadata": {},
   "outputs": [
    {
     "name": "stdout",
     "output_type": "stream",
     "text": [
      "Accuracy Score: 0.8936170212765957 \n",
      " Confusion Matrix:\n",
      " [[8 0 0 0 0 0 0]\n",
      " [3 5 0 0 0 2 0]\n",
      " [0 0 5 0 0 0 0]\n",
      " [0 0 0 5 0 0 0]\n",
      " [0 0 0 0 8 0 0]\n",
      " [0 0 0 0 0 5 0]\n",
      " [0 0 0 0 0 0 6]] \n",
      " Classification Report:\n",
      "               precision    recall  f1-score   support\n",
      "\n",
      "           0       0.73      1.00      0.84         8\n",
      "           1       1.00      0.50      0.67        10\n",
      "           2       1.00      1.00      1.00         5\n",
      "           3       1.00      1.00      1.00         5\n",
      "           4       1.00      1.00      1.00         8\n",
      "           5       0.71      1.00      0.83         5\n",
      "           6       1.00      1.00      1.00         6\n",
      "\n",
      "    accuracy                           0.89        47\n",
      "   macro avg       0.92      0.93      0.91        47\n",
      "weighted avg       0.92      0.89      0.88        47\n",
      "\n"
     ]
    },
    {
     "data": {
      "text/plain": [
       "0.8673684210526316"
      ]
     },
     "execution_count": 43,
     "metadata": {},
     "output_type": "execute_result"
    }
   ],
   "source": [
    "evaulate(y2_test,pred_KN2)\n",
    "cross_val_score(Kneigh2,X,y,cv=5).mean()"
   ]
  },
  {
   "attachments": {},
   "cell_type": "markdown",
   "metadata": {},
   "source": [
    "Scaled data"
   ]
  },
  {
   "cell_type": "code",
   "execution_count": 44,
   "metadata": {},
   "outputs": [
    {
     "name": "stdout",
     "output_type": "stream",
     "text": [
      "              precision    recall  f1-score   support\n",
      "\n",
      "           0       0.70      0.88      0.78         8\n",
      "           1       1.00      0.40      0.57        10\n",
      "           2       0.38      0.60      0.46         5\n",
      "           3       0.71      1.00      0.83         5\n",
      "           4       0.86      0.75      0.80         8\n",
      "           5       0.80      0.80      0.80         5\n",
      "           6       1.00      1.00      1.00         6\n",
      "\n",
      "    accuracy                           0.74        47\n",
      "   macro avg       0.78      0.78      0.75        47\n",
      "weighted avg       0.81      0.74      0.74        47\n",
      "\n",
      "Accuracy Score: 0.7446808510638298 \n",
      " Confusion Matrix:\n",
      " [[7 0 1 0 0 0 0]\n",
      " [1 4 4 1 0 0 0]\n",
      " [2 0 3 0 0 0 0]\n",
      " [0 0 0 5 0 0 0]\n",
      " [0 0 0 1 6 1 0]\n",
      " [0 0 0 0 1 4 0]\n",
      " [0 0 0 0 0 0 6]] \n",
      " Classification Report:\n",
      "               precision    recall  f1-score   support\n",
      "\n",
      "           0       0.70      0.88      0.78         8\n",
      "           1       1.00      0.40      0.57        10\n",
      "           2       0.38      0.60      0.46         5\n",
      "           3       0.71      1.00      0.83         5\n",
      "           4       0.86      0.75      0.80         8\n",
      "           5       0.80      0.80      0.80         5\n",
      "           6       1.00      1.00      1.00         6\n",
      "\n",
      "    accuracy                           0.74        47\n",
      "   macro avg       0.78      0.78      0.75        47\n",
      "weighted avg       0.81      0.74      0.74        47\n",
      "\n",
      "0.8673684210526316\n"
     ]
    }
   ],
   "source": [
    "Kneigh2scaled = KNeighborsClassifier(n_neighbors=5)\n",
    "Kneigh2scaled.fit(X2_train_scaled,y2_train)\n",
    "\n",
    "pred_KN2 = Kneigh2scaled.predict(X2_test_scaled)\n",
    "\n",
    "print(classification_report(y2_test,pred_KN2))\n",
    "evaulate(y2_test,pred_KN2)\n",
    "print(cross_val_score(Kneigh2scaled,X,y,cv=5).mean())"
   ]
  },
  {
   "attachments": {},
   "cell_type": "markdown",
   "metadata": {},
   "source": [
    "# SVM Classifier"
   ]
  },
  {
   "attachments": {},
   "cell_type": "markdown",
   "metadata": {},
   "source": [
    "For 8:2 Ratio\n",
    "Unscaled data"
   ]
  },
  {
   "cell_type": "code",
   "execution_count": 45,
   "metadata": {},
   "outputs": [
    {
     "name": "stdout",
     "output_type": "stream",
     "text": [
      "              precision    recall  f1-score   support\n",
      "\n",
      "           0       0.67      1.00      0.80         4\n",
      "           1       1.00      0.38      0.55         8\n",
      "           2       1.00      1.00      1.00         3\n",
      "           3       1.00      1.00      1.00         4\n",
      "           4       1.00      1.00      1.00         5\n",
      "           5       0.57      1.00      0.73         4\n",
      "           6       1.00      1.00      1.00         3\n",
      "\n",
      "    accuracy                           0.84        31\n",
      "   macro avg       0.89      0.91      0.87        31\n",
      "weighted avg       0.90      0.84      0.82        31\n",
      "\n",
      "Accuracy Score: 0.8387096774193549 \n",
      " Confusion Matrix:\n",
      " [[4 0 0 0 0 0 0]\n",
      " [2 3 0 0 0 3 0]\n",
      " [0 0 3 0 0 0 0]\n",
      " [0 0 0 4 0 0 0]\n",
      " [0 0 0 0 5 0 0]\n",
      " [0 0 0 0 0 4 0]\n",
      " [0 0 0 0 0 0 3]] \n",
      " Classification Report:\n",
      "               precision    recall  f1-score   support\n",
      "\n",
      "           0       0.67      1.00      0.80         4\n",
      "           1       1.00      0.38      0.55         8\n",
      "           2       1.00      1.00      1.00         3\n",
      "           3       1.00      1.00      1.00         4\n",
      "           4       1.00      1.00      1.00         5\n",
      "           5       0.57      1.00      0.73         4\n",
      "           6       1.00      1.00      1.00         3\n",
      "\n",
      "    accuracy                           0.84        31\n",
      "   macro avg       0.89      0.91      0.87        31\n",
      "weighted avg       0.90      0.84      0.82        31\n",
      "\n",
      "0.7463157894736842\n"
     ]
    }
   ],
   "source": [
    "from sklearn.metrics import confusion_matrix\n",
    "#with unscaled data\n",
    "from sklearn.svm import SVC\n",
    "SVCclassifier = SVC(kernel = 'rbf', random_state = 42)\n",
    "SVCclassifier.fit(X1_train, y1_train)\n",
    "\n",
    "# Predicting the Test set results\n",
    "y1_pred = SVCclassifier.predict(X1_test)\n",
    "print(classification_report(y1_test,y1_pred))\n",
    "evaulate(y1_test,y1_pred)\n",
    "print(cross_val_score(SVCclassifier,X,y,cv=5).mean())"
   ]
  },
  {
   "attachments": {},
   "cell_type": "markdown",
   "metadata": {},
   "source": [
    "Scaled data"
   ]
  },
  {
   "cell_type": "code",
   "execution_count": 46,
   "metadata": {},
   "outputs": [
    {
     "name": "stdout",
     "output_type": "stream",
     "text": [
      "              precision    recall  f1-score   support\n",
      "\n",
      "           0       0.80      1.00      0.89         4\n",
      "           1       1.00      0.62      0.77         8\n",
      "           2       1.00      1.00      1.00         3\n",
      "           3       1.00      1.00      1.00         4\n",
      "           4       1.00      1.00      1.00         5\n",
      "           5       0.67      1.00      0.80         4\n",
      "           6       1.00      1.00      1.00         3\n",
      "\n",
      "    accuracy                           0.90        31\n",
      "   macro avg       0.92      0.95      0.92        31\n",
      "weighted avg       0.93      0.90      0.90        31\n",
      "\n",
      "Accuracy Score: 0.9032258064516129 \n",
      " Confusion Matrix:\n",
      " [[4 0 0 0 0 0 0]\n",
      " [1 5 0 0 0 2 0]\n",
      " [0 0 3 0 0 0 0]\n",
      " [0 0 0 4 0 0 0]\n",
      " [0 0 0 0 5 0 0]\n",
      " [0 0 0 0 0 4 0]\n",
      " [0 0 0 0 0 0 3]] \n",
      " Classification Report:\n",
      "               precision    recall  f1-score   support\n",
      "\n",
      "           0       0.80      1.00      0.89         4\n",
      "           1       1.00      0.62      0.77         8\n",
      "           2       1.00      1.00      1.00         3\n",
      "           3       1.00      1.00      1.00         4\n",
      "           4       1.00      1.00      1.00         5\n",
      "           5       0.67      1.00      0.80         4\n",
      "           6       1.00      1.00      1.00         3\n",
      "\n",
      "    accuracy                           0.90        31\n",
      "   macro avg       0.92      0.95      0.92        31\n",
      "weighted avg       0.93      0.90      0.90        31\n",
      "\n",
      "0.7463157894736842\n"
     ]
    }
   ],
   "source": [
    "SVCclassifierscaled = SVC(kernel = 'rbf', random_state = 42)\n",
    "SVCclassifierscaled.fit(X1_train_scaled, y1_train)\n",
    "\n",
    "# Predicting the Test set results\n",
    "y1_pred_scaled = SVCclassifierscaled.predict(X1_test_scaled)\n",
    "print(classification_report(y1_test,y1_pred_scaled))\n",
    "evaulate(y1_test,y1_pred_scaled)\n",
    "print(cross_val_score(SVCclassifierscaled,X,y,cv=5).mean())"
   ]
  },
  {
   "attachments": {},
   "cell_type": "markdown",
   "metadata": {},
   "source": [
    "For 7:3 ratio\n",
    "Unscaled Data"
   ]
  },
  {
   "cell_type": "code",
   "execution_count": 47,
   "metadata": {},
   "outputs": [
    {
     "name": "stdout",
     "output_type": "stream",
     "text": [
      "              precision    recall  f1-score   support\n",
      "\n",
      "           0       0.78      0.88      0.82         8\n",
      "           1       1.00      0.50      0.67        10\n",
      "           2       0.83      1.00      0.91         5\n",
      "           3       1.00      1.00      1.00         5\n",
      "           4       1.00      1.00      1.00         8\n",
      "           5       0.62      1.00      0.77         5\n",
      "           6       1.00      1.00      1.00         6\n",
      "\n",
      "    accuracy                           0.87        47\n",
      "   macro avg       0.89      0.91      0.88        47\n",
      "weighted avg       0.90      0.87      0.86        47\n",
      "\n",
      "Accuracy Score: 0.8723404255319149 \n",
      " Confusion Matrix:\n",
      " [[7 0 1 0 0 0 0]\n",
      " [2 5 0 0 0 3 0]\n",
      " [0 0 5 0 0 0 0]\n",
      " [0 0 0 5 0 0 0]\n",
      " [0 0 0 0 8 0 0]\n",
      " [0 0 0 0 0 5 0]\n",
      " [0 0 0 0 0 0 6]] \n",
      " Classification Report:\n",
      "               precision    recall  f1-score   support\n",
      "\n",
      "           0       0.78      0.88      0.82         8\n",
      "           1       1.00      0.50      0.67        10\n",
      "           2       0.83      1.00      0.91         5\n",
      "           3       1.00      1.00      1.00         5\n",
      "           4       1.00      1.00      1.00         8\n",
      "           5       0.62      1.00      0.77         5\n",
      "           6       1.00      1.00      1.00         6\n",
      "\n",
      "    accuracy                           0.87        47\n",
      "   macro avg       0.89      0.91      0.88        47\n",
      "weighted avg       0.90      0.87      0.86        47\n",
      "\n",
      "0.7463157894736842\n"
     ]
    }
   ],
   "source": [
    "SVCclassifier2 = SVC(kernel = 'rbf', random_state = 42)\n",
    "SVCclassifier2.fit(X2_train, y2_train)\n",
    "\n",
    "# Predicting the Test set results\n",
    "y2_pred = SVCclassifier2.predict(X2_test)\n",
    "print(classification_report(y2_test,y2_pred))\n",
    "print(classification_report(\n",
    "evaulate(y2_test,y2_pred)\n",
    "print(cross_val_score(SVCclassifier2,X,y,cv=5).mean())"
   ]
  },
  {
   "attachments": {},
   "cell_type": "markdown",
   "metadata": {},
   "source": [
    "Scaled data"
   ]
  },
  {
   "cell_type": "code",
   "execution_count": 48,
   "metadata": {},
   "outputs": [
    {
     "name": "stdout",
     "output_type": "stream",
     "text": [
      "              precision    recall  f1-score   support\n",
      "\n",
      "           0       0.88      0.88      0.88         8\n",
      "           1       1.00      0.70      0.82        10\n",
      "           2       0.71      1.00      0.83         5\n",
      "           3       1.00      1.00      1.00         5\n",
      "           4       1.00      0.88      0.93         8\n",
      "           5       0.71      1.00      0.83         5\n",
      "           6       1.00      1.00      1.00         6\n",
      "\n",
      "    accuracy                           0.89        47\n",
      "   macro avg       0.90      0.92      0.90        47\n",
      "weighted avg       0.92      0.89      0.89        47\n",
      "\n",
      "Accuracy Score: 0.8936170212765957 \n",
      " Confusion Matrix:\n",
      " [[7 0 1 0 0 0 0]\n",
      " [1 7 1 0 0 1 0]\n",
      " [0 0 5 0 0 0 0]\n",
      " [0 0 0 5 0 0 0]\n",
      " [0 0 0 0 7 1 0]\n",
      " [0 0 0 0 0 5 0]\n",
      " [0 0 0 0 0 0 6]] \n",
      " Classification Report:\n",
      "               precision    recall  f1-score   support\n",
      "\n",
      "           0       0.88      0.88      0.88         8\n",
      "           1       1.00      0.70      0.82        10\n",
      "           2       0.71      1.00      0.83         5\n",
      "           3       1.00      1.00      1.00         5\n",
      "           4       1.00      0.88      0.93         8\n",
      "           5       0.71      1.00      0.83         5\n",
      "           6       1.00      1.00      1.00         6\n",
      "\n",
      "    accuracy                           0.89        47\n",
      "   macro avg       0.90      0.92      0.90        47\n",
      "weighted avg       0.92      0.89      0.89        47\n",
      "\n",
      "0.7463157894736842\n"
     ]
    }
   ],
   "source": [
    "SVCclassifier2scaled = SVC(kernel = 'rbf', random_state = 42)\n",
    "SVCclassifier2scaled.fit(X2_train_scaled, y2_train)\n",
    "\n",
    "# Predicting the Test set results\n",
    "y2_pred_scaled = SVCclassifier2scaled.predict(X2_test_scaled)\n",
    "print(classification_report(y2_test,y2_pred_scaled))\n",
    "evaulate(y2_test,y2_pred_scaled)\n",
    "print(cross_val_score(SVCclassifier2scaled,X,y,cv=5).mean())"
   ]
  }
 ],
 "metadata": {
  "kernelspec": {
   "display_name": "base",
   "language": "python",
   "name": "python3"
  },
  "language_info": {
   "codemirror_mode": {
    "name": "ipython",
    "version": 3
   },
   "file_extension": ".py",
   "mimetype": "text/x-python",
   "name": "python",
   "nbconvert_exporter": "python",
   "pygments_lexer": "ipython3",
   "version": "3.10.9"
  },
  "orig_nbformat": 4
 },
 "nbformat": 4,
 "nbformat_minor": 2
}
